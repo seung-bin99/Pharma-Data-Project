{
 "cells": [
  {
   "cell_type": "code",
   "execution_count": 46,
   "metadata": {
    "id": "p2jdvqi_kbal"
   },
   "outputs": [],
   "source": [
    "import pandas as pd\n",
    "import numpy as np\n",
    "import gc\n",
    "import matplotlib.pyplot as plt\n",
    "import seaborn as sns"
   ]
  },
  {
   "cell_type": "code",
   "execution_count": 47,
   "metadata": {
    "id": "J4EQ_Uj_kjiP"
   },
   "outputs": [],
   "source": [
    "def csv_to_parquet(csv_path, save_name):\n",
    "    df = pd.read_csv(csv_path)\n",
    "    df.to_parquet(f'./{save_name}.parquet')\n",
    "    del df\n",
    "    gc.collect()\n",
    "    print(save_name, 'Done.')"
   ]
  },
  {
   "cell_type": "code",
   "execution_count": 48,
   "metadata": {
    "colab": {
     "base_uri": "https://localhost:8080/"
    },
    "id": "sBxfq2lKklzU",
    "outputId": "62e962a3-8c14-4d46-9ecd-f022dc96f199"
   },
   "outputs": [
    {
     "name": "stdout",
     "output_type": "stream",
     "text": [
      "med Done.\n"
     ]
    }
   ],
   "source": [
    "csv_to_parquet(\"C:/Users/user/Desktop/제약/archive/Medicine_Details.csv\", 'med')"
   ]
  },
  {
   "cell_type": "code",
   "execution_count": 49,
   "metadata": {
    "colab": {
     "base_uri": "https://localhost:8080/",
     "height": 539
    },
    "id": "vCeGjd36lAn-",
    "outputId": "0272d9ff-edee-4a17-9df7-c1870dce811a"
   },
   "outputs": [
    {
     "data": {
      "text/html": [
       "<div>\n",
       "<style scoped>\n",
       "    .dataframe tbody tr th:only-of-type {\n",
       "        vertical-align: middle;\n",
       "    }\n",
       "\n",
       "    .dataframe tbody tr th {\n",
       "        vertical-align: top;\n",
       "    }\n",
       "\n",
       "    .dataframe thead th {\n",
       "        text-align: right;\n",
       "    }\n",
       "</style>\n",
       "<table border=\"1\" class=\"dataframe\">\n",
       "  <thead>\n",
       "    <tr style=\"text-align: right;\">\n",
       "      <th></th>\n",
       "      <th>Medicine Name</th>\n",
       "      <th>Composition</th>\n",
       "      <th>Uses</th>\n",
       "      <th>Side_effects</th>\n",
       "      <th>Image URL</th>\n",
       "      <th>Manufacturer</th>\n",
       "      <th>Excellent Review %</th>\n",
       "      <th>Average Review %</th>\n",
       "      <th>Poor Review %</th>\n",
       "    </tr>\n",
       "  </thead>\n",
       "  <tbody>\n",
       "    <tr>\n",
       "      <th>0</th>\n",
       "      <td>Avastin 400mg Injection</td>\n",
       "      <td>Bevacizumab (400mg)</td>\n",
       "      <td>Cancer of colon and rectum Non-small cell lun...</td>\n",
       "      <td>Rectal bleeding Taste change Headache Noseblee...</td>\n",
       "      <td>https://onemg.gumlet.io/l_watermark_346,w_480,...</td>\n",
       "      <td>Roche Products India Pvt Ltd</td>\n",
       "      <td>22</td>\n",
       "      <td>56</td>\n",
       "      <td>22</td>\n",
       "    </tr>\n",
       "    <tr>\n",
       "      <th>1</th>\n",
       "      <td>Augmentin 625 Duo Tablet</td>\n",
       "      <td>Amoxycillin  (500mg) +  Clavulanic Acid (125mg)</td>\n",
       "      <td>Treatment of Bacterial infections</td>\n",
       "      <td>Vomiting Nausea Diarrhea Mucocutaneous candidi...</td>\n",
       "      <td>https://onemg.gumlet.io/l_watermark_346,w_480,...</td>\n",
       "      <td>Glaxo SmithKline Pharmaceuticals Ltd</td>\n",
       "      <td>47</td>\n",
       "      <td>35</td>\n",
       "      <td>18</td>\n",
       "    </tr>\n",
       "    <tr>\n",
       "      <th>2</th>\n",
       "      <td>Azithral 500 Tablet</td>\n",
       "      <td>Azithromycin (500mg)</td>\n",
       "      <td>Treatment of Bacterial infections</td>\n",
       "      <td>Nausea Abdominal pain Diarrhea</td>\n",
       "      <td>https://onemg.gumlet.io/l_watermark_346,w_480,...</td>\n",
       "      <td>Alembic Pharmaceuticals Ltd</td>\n",
       "      <td>39</td>\n",
       "      <td>40</td>\n",
       "      <td>21</td>\n",
       "    </tr>\n",
       "    <tr>\n",
       "      <th>3</th>\n",
       "      <td>Ascoril LS Syrup</td>\n",
       "      <td>Ambroxol (30mg/5ml) + Levosalbutamol (1mg/5ml)...</td>\n",
       "      <td>Treatment of Cough with mucus</td>\n",
       "      <td>Nausea Vomiting Diarrhea Upset stomach Stomach...</td>\n",
       "      <td>https://onemg.gumlet.io/l_watermark_346,w_480,...</td>\n",
       "      <td>Glenmark Pharmaceuticals Ltd</td>\n",
       "      <td>24</td>\n",
       "      <td>41</td>\n",
       "      <td>35</td>\n",
       "    </tr>\n",
       "    <tr>\n",
       "      <th>4</th>\n",
       "      <td>Aciloc 150 Tablet</td>\n",
       "      <td>Ranitidine (150mg)</td>\n",
       "      <td>Treatment of Gastroesophageal reflux disease (...</td>\n",
       "      <td>Headache Diarrhea Gastrointestinal disturbance</td>\n",
       "      <td>https://onemg.gumlet.io/l_watermark_346,w_480,...</td>\n",
       "      <td>Cadila Pharmaceuticals Ltd</td>\n",
       "      <td>34</td>\n",
       "      <td>37</td>\n",
       "      <td>29</td>\n",
       "    </tr>\n",
       "  </tbody>\n",
       "</table>\n",
       "</div>"
      ],
      "text/plain": [
       "              Medicine Name  \\\n",
       "0   Avastin 400mg Injection   \n",
       "1  Augmentin 625 Duo Tablet   \n",
       "2       Azithral 500 Tablet   \n",
       "3          Ascoril LS Syrup   \n",
       "4         Aciloc 150 Tablet   \n",
       "\n",
       "                                         Composition  \\\n",
       "0                                Bevacizumab (400mg)   \n",
       "1    Amoxycillin  (500mg) +  Clavulanic Acid (125mg)   \n",
       "2                               Azithromycin (500mg)   \n",
       "3  Ambroxol (30mg/5ml) + Levosalbutamol (1mg/5ml)...   \n",
       "4                                 Ranitidine (150mg)   \n",
       "\n",
       "                                                Uses  \\\n",
       "0   Cancer of colon and rectum Non-small cell lun...   \n",
       "1                  Treatment of Bacterial infections   \n",
       "2                  Treatment of Bacterial infections   \n",
       "3                      Treatment of Cough with mucus   \n",
       "4  Treatment of Gastroesophageal reflux disease (...   \n",
       "\n",
       "                                        Side_effects  \\\n",
       "0  Rectal bleeding Taste change Headache Noseblee...   \n",
       "1  Vomiting Nausea Diarrhea Mucocutaneous candidi...   \n",
       "2                     Nausea Abdominal pain Diarrhea   \n",
       "3  Nausea Vomiting Diarrhea Upset stomach Stomach...   \n",
       "4     Headache Diarrhea Gastrointestinal disturbance   \n",
       "\n",
       "                                           Image URL  \\\n",
       "0  https://onemg.gumlet.io/l_watermark_346,w_480,...   \n",
       "1  https://onemg.gumlet.io/l_watermark_346,w_480,...   \n",
       "2  https://onemg.gumlet.io/l_watermark_346,w_480,...   \n",
       "3  https://onemg.gumlet.io/l_watermark_346,w_480,...   \n",
       "4  https://onemg.gumlet.io/l_watermark_346,w_480,...   \n",
       "\n",
       "                           Manufacturer  Excellent Review %  Average Review %  \\\n",
       "0          Roche Products India Pvt Ltd                  22                56   \n",
       "1  Glaxo SmithKline Pharmaceuticals Ltd                  47                35   \n",
       "2           Alembic Pharmaceuticals Ltd                  39                40   \n",
       "3          Glenmark Pharmaceuticals Ltd                  24                41   \n",
       "4            Cadila Pharmaceuticals Ltd                  34                37   \n",
       "\n",
       "   Poor Review %  \n",
       "0             22  \n",
       "1             18  \n",
       "2             21  \n",
       "3             35  \n",
       "4             29  "
      ]
     },
     "execution_count": 49,
     "metadata": {},
     "output_type": "execute_result"
    }
   ],
   "source": [
    "med = pd.read_parquet('./med.parquet')\n",
    "med.head()"
   ]
  },
  {
   "cell_type": "code",
   "execution_count": 50,
   "metadata": {
    "colab": {
     "base_uri": "https://localhost:8080/"
    },
    "id": "6PV7TxA-lJk9",
    "outputId": "49ca4ca3-8f32-4e65-d025-0c9232215db5"
   },
   "outputs": [
    {
     "name": "stdout",
     "output_type": "stream",
     "text": [
      "<class 'pandas.core.frame.DataFrame'>\n",
      "RangeIndex: 11825 entries, 0 to 11824\n",
      "Data columns (total 9 columns):\n",
      " #   Column              Non-Null Count  Dtype \n",
      "---  ------              --------------  ----- \n",
      " 0   Medicine Name       11825 non-null  object\n",
      " 1   Composition         11825 non-null  object\n",
      " 2   Uses                11825 non-null  object\n",
      " 3   Side_effects        11825 non-null  object\n",
      " 4   Image URL           11825 non-null  object\n",
      " 5   Manufacturer        11825 non-null  object\n",
      " 6   Excellent Review %  11825 non-null  int64 \n",
      " 7   Average Review %    11825 non-null  int64 \n",
      " 8   Poor Review %       11825 non-null  int64 \n",
      "dtypes: int64(3), object(6)\n",
      "memory usage: 831.6+ KB\n"
     ]
    }
   ],
   "source": [
    "med.info()"
   ]
  },
  {
   "cell_type": "code",
   "execution_count": 51,
   "metadata": {
    "colab": {
     "base_uri": "https://localhost:8080/",
     "height": 469
    },
    "id": "YFFOwW2hmDyO",
    "outputId": "0251b81d-7b02-43ff-89fc-260b139f8904"
   },
   "outputs": [
    {
     "data": {
      "text/html": [
       "<div>\n",
       "<style scoped>\n",
       "    .dataframe tbody tr th:only-of-type {\n",
       "        vertical-align: middle;\n",
       "    }\n",
       "\n",
       "    .dataframe tbody tr th {\n",
       "        vertical-align: top;\n",
       "    }\n",
       "\n",
       "    .dataframe thead th {\n",
       "        text-align: right;\n",
       "    }\n",
       "</style>\n",
       "<table border=\"1\" class=\"dataframe\">\n",
       "  <thead>\n",
       "    <tr style=\"text-align: right;\">\n",
       "      <th></th>\n",
       "      <th>Medicine Name</th>\n",
       "      <th>Composition</th>\n",
       "      <th>Uses</th>\n",
       "      <th>Image URL</th>\n",
       "      <th>Manufacturer</th>\n",
       "      <th>Excellent Review %</th>\n",
       "      <th>Average Review %</th>\n",
       "      <th>Poor Review %</th>\n",
       "    </tr>\n",
       "  </thead>\n",
       "  <tbody>\n",
       "    <tr>\n",
       "      <th>0</th>\n",
       "      <td>Avastin 400mg Injection</td>\n",
       "      <td>Bevacizumab (400mg)</td>\n",
       "      <td>Cancer of colon and rectum Non-small cell lun...</td>\n",
       "      <td>https://onemg.gumlet.io/l_watermark_346,w_480,...</td>\n",
       "      <td>Roche Products India Pvt Ltd</td>\n",
       "      <td>22</td>\n",
       "      <td>56</td>\n",
       "      <td>22</td>\n",
       "    </tr>\n",
       "    <tr>\n",
       "      <th>1</th>\n",
       "      <td>Augmentin 625 Duo Tablet</td>\n",
       "      <td>Amoxycillin  (500mg) +  Clavulanic Acid (125mg)</td>\n",
       "      <td>Treatment of Bacterial infections</td>\n",
       "      <td>https://onemg.gumlet.io/l_watermark_346,w_480,...</td>\n",
       "      <td>Glaxo SmithKline Pharmaceuticals Ltd</td>\n",
       "      <td>47</td>\n",
       "      <td>35</td>\n",
       "      <td>18</td>\n",
       "    </tr>\n",
       "    <tr>\n",
       "      <th>2</th>\n",
       "      <td>Azithral 500 Tablet</td>\n",
       "      <td>Azithromycin (500mg)</td>\n",
       "      <td>Treatment of Bacterial infections</td>\n",
       "      <td>https://onemg.gumlet.io/l_watermark_346,w_480,...</td>\n",
       "      <td>Alembic Pharmaceuticals Ltd</td>\n",
       "      <td>39</td>\n",
       "      <td>40</td>\n",
       "      <td>21</td>\n",
       "    </tr>\n",
       "    <tr>\n",
       "      <th>3</th>\n",
       "      <td>Ascoril LS Syrup</td>\n",
       "      <td>Ambroxol (30mg/5ml) + Levosalbutamol (1mg/5ml)...</td>\n",
       "      <td>Treatment of Cough with mucus</td>\n",
       "      <td>https://onemg.gumlet.io/l_watermark_346,w_480,...</td>\n",
       "      <td>Glenmark Pharmaceuticals Ltd</td>\n",
       "      <td>24</td>\n",
       "      <td>41</td>\n",
       "      <td>35</td>\n",
       "    </tr>\n",
       "    <tr>\n",
       "      <th>4</th>\n",
       "      <td>Aciloc 150 Tablet</td>\n",
       "      <td>Ranitidine (150mg)</td>\n",
       "      <td>Treatment of Gastroesophageal reflux disease (...</td>\n",
       "      <td>https://onemg.gumlet.io/l_watermark_346,w_480,...</td>\n",
       "      <td>Cadila Pharmaceuticals Ltd</td>\n",
       "      <td>34</td>\n",
       "      <td>37</td>\n",
       "      <td>29</td>\n",
       "    </tr>\n",
       "  </tbody>\n",
       "</table>\n",
       "</div>"
      ],
      "text/plain": [
       "              Medicine Name  \\\n",
       "0   Avastin 400mg Injection   \n",
       "1  Augmentin 625 Duo Tablet   \n",
       "2       Azithral 500 Tablet   \n",
       "3          Ascoril LS Syrup   \n",
       "4         Aciloc 150 Tablet   \n",
       "\n",
       "                                         Composition  \\\n",
       "0                                Bevacizumab (400mg)   \n",
       "1    Amoxycillin  (500mg) +  Clavulanic Acid (125mg)   \n",
       "2                               Azithromycin (500mg)   \n",
       "3  Ambroxol (30mg/5ml) + Levosalbutamol (1mg/5ml)...   \n",
       "4                                 Ranitidine (150mg)   \n",
       "\n",
       "                                                Uses  \\\n",
       "0   Cancer of colon and rectum Non-small cell lun...   \n",
       "1                  Treatment of Bacterial infections   \n",
       "2                  Treatment of Bacterial infections   \n",
       "3                      Treatment of Cough with mucus   \n",
       "4  Treatment of Gastroesophageal reflux disease (...   \n",
       "\n",
       "                                           Image URL  \\\n",
       "0  https://onemg.gumlet.io/l_watermark_346,w_480,...   \n",
       "1  https://onemg.gumlet.io/l_watermark_346,w_480,...   \n",
       "2  https://onemg.gumlet.io/l_watermark_346,w_480,...   \n",
       "3  https://onemg.gumlet.io/l_watermark_346,w_480,...   \n",
       "4  https://onemg.gumlet.io/l_watermark_346,w_480,...   \n",
       "\n",
       "                           Manufacturer  Excellent Review %  Average Review %  \\\n",
       "0          Roche Products India Pvt Ltd                  22                56   \n",
       "1  Glaxo SmithKline Pharmaceuticals Ltd                  47                35   \n",
       "2           Alembic Pharmaceuticals Ltd                  39                40   \n",
       "3          Glenmark Pharmaceuticals Ltd                  24                41   \n",
       "4            Cadila Pharmaceuticals Ltd                  34                37   \n",
       "\n",
       "   Poor Review %  \n",
       "0             22  \n",
       "1             18  \n",
       "2             21  \n",
       "3             35  \n",
       "4             29  "
      ]
     },
     "execution_count": 51,
     "metadata": {},
     "output_type": "execute_result"
    }
   ],
   "source": [
    "# 필요한 정보만 추출\n",
    "meds = med[['Medicine Name', 'Composition', 'Uses', 'Image URL', 'Manufacturer', 'Excellent Review %', 'Average Review %', 'Poor Review %']]\n",
    "meds.head(5)"
   ]
  },
  {
   "cell_type": "code",
   "execution_count": 52,
   "metadata": {
    "colab": {
     "base_uri": "https://localhost:8080/",
     "height": 1000
    },
    "id": "oiXfC8fAn1JF",
    "outputId": "2d02330e-37b0-48b8-ab37-085b5ef0bdcf"
   },
   "outputs": [
    {
     "data": {
      "text/html": [
       "<div>\n",
       "<style scoped>\n",
       "    .dataframe tbody tr th:only-of-type {\n",
       "        vertical-align: middle;\n",
       "    }\n",
       "\n",
       "    .dataframe tbody tr th {\n",
       "        vertical-align: top;\n",
       "    }\n",
       "\n",
       "    .dataframe thead th {\n",
       "        text-align: right;\n",
       "    }\n",
       "</style>\n",
       "<table border=\"1\" class=\"dataframe\">\n",
       "  <thead>\n",
       "    <tr style=\"text-align: right;\">\n",
       "      <th></th>\n",
       "      <th>Medicine Name</th>\n",
       "      <th>Composition</th>\n",
       "      <th>Uses</th>\n",
       "      <th>Image URL</th>\n",
       "      <th>Manufacturer</th>\n",
       "      <th>Excellent Review %</th>\n",
       "      <th>Average Review %</th>\n",
       "      <th>Poor Review %</th>\n",
       "    </tr>\n",
       "  </thead>\n",
       "  <tbody>\n",
       "    <tr>\n",
       "      <th>779</th>\n",
       "      <td>Aristogyl-F Oral Suspension</td>\n",
       "      <td>Furazolidone (30mg/5ml) + Metronidazole (100mg...</td>\n",
       "      <td>Diarrhea Dysentery</td>\n",
       "      <td>https://onemg.gumlet.io/l_watermark_346,w_480,...</td>\n",
       "      <td>Aristo Pharmaceuticals Pvt Ltd</td>\n",
       "      <td>22</td>\n",
       "      <td>28</td>\n",
       "      <td>50</td>\n",
       "    </tr>\n",
       "    <tr>\n",
       "      <th>780</th>\n",
       "      <td>Aristogyl-F Oral Suspension</td>\n",
       "      <td>Furazolidone (30mg/5ml) + Metronidazole (100mg...</td>\n",
       "      <td>Diarrhea Dysentery</td>\n",
       "      <td>https://onemg.gumlet.io/l_watermark_346,w_480,...</td>\n",
       "      <td>Aristo Pharmaceuticals Pvt Ltd</td>\n",
       "      <td>22</td>\n",
       "      <td>28</td>\n",
       "      <td>50</td>\n",
       "    </tr>\n",
       "    <tr>\n",
       "      <th>955</th>\n",
       "      <td>Apexitra 200 Capsule</td>\n",
       "      <td>Itraconazole (200mg)</td>\n",
       "      <td>Treatment of Fungal infections</td>\n",
       "      <td>https://onemg.gumlet.io/l_watermark_346,w_480,...</td>\n",
       "      <td>Apex Laboratories Pvt Ltd</td>\n",
       "      <td>83</td>\n",
       "      <td>17</td>\n",
       "      <td>0</td>\n",
       "    </tr>\n",
       "    <tr>\n",
       "      <th>956</th>\n",
       "      <td>Apexitra 200 Capsule</td>\n",
       "      <td>Itraconazole (200mg)</td>\n",
       "      <td>Treatment of Fungal infections</td>\n",
       "      <td>https://onemg.gumlet.io/l_watermark_346,w_480,...</td>\n",
       "      <td>Apex Laboratories Pvt Ltd</td>\n",
       "      <td>83</td>\n",
       "      <td>17</td>\n",
       "      <td>0</td>\n",
       "    </tr>\n",
       "    <tr>\n",
       "      <th>1120</th>\n",
       "      <td>Amyclox-LB-DS Capsule</td>\n",
       "      <td>Amoxycillin (250mg) + Cloxacillin (250mg) + La...</td>\n",
       "      <td>Bacterial infections</td>\n",
       "      <td>https://onemg.gumlet.io/l_watermark_346,w_480,...</td>\n",
       "      <td>Ind Swift Laboratories Ltd</td>\n",
       "      <td>0</td>\n",
       "      <td>0</td>\n",
       "      <td>100</td>\n",
       "    </tr>\n",
       "    <tr>\n",
       "      <th>...</th>\n",
       "      <td>...</td>\n",
       "      <td>...</td>\n",
       "      <td>...</td>\n",
       "      <td>...</td>\n",
       "      <td>...</td>\n",
       "      <td>...</td>\n",
       "      <td>...</td>\n",
       "      <td>...</td>\n",
       "    </tr>\n",
       "    <tr>\n",
       "      <th>11228</th>\n",
       "      <td>Vomicare Oral Solution</td>\n",
       "      <td>Ondansetron (2mg/5ml)</td>\n",
       "      <td>Treatment of Nausea Vomiting</td>\n",
       "      <td>https://onemg.gumlet.io/l_watermark_346,w_480,...</td>\n",
       "      <td>Suncare Formulations Pvt Ltd</td>\n",
       "      <td>0</td>\n",
       "      <td>0</td>\n",
       "      <td>100</td>\n",
       "    </tr>\n",
       "    <tr>\n",
       "      <th>11405</th>\n",
       "      <td>Xrate Cough Expectorant Sugar Free</td>\n",
       "      <td>Ambroxol (15mg/5ml) + Guaifenesin (50mg/5ml) +...</td>\n",
       "      <td>Cough</td>\n",
       "      <td>https://onemg.gumlet.io/l_watermark_346,w_480,...</td>\n",
       "      <td>Celsius Healthcare Pvt Ltd</td>\n",
       "      <td>67</td>\n",
       "      <td>33</td>\n",
       "      <td>0</td>\n",
       "    </tr>\n",
       "    <tr>\n",
       "      <th>11406</th>\n",
       "      <td>Xrate Cough Expectorant Sugar Free</td>\n",
       "      <td>Ambroxol (15mg/5ml) + Guaifenesin (50mg/5ml) +...</td>\n",
       "      <td>Cough</td>\n",
       "      <td>https://onemg.gumlet.io/l_watermark_346,w_480,...</td>\n",
       "      <td>Celsius Healthcare Pvt Ltd</td>\n",
       "      <td>67</td>\n",
       "      <td>33</td>\n",
       "      <td>0</td>\n",
       "    </tr>\n",
       "    <tr>\n",
       "      <th>11823</th>\n",
       "      <td>Zedruff Shampoo</td>\n",
       "      <td>Ketoconazole (2% w/v) + Zinc pyrithione (1% w/v)</td>\n",
       "      <td>Treatment of Dandruff</td>\n",
       "      <td>https://onemg.gumlet.io/l_watermark_346,w_480,...</td>\n",
       "      <td>Minova Life Sciences Pvt Ltd</td>\n",
       "      <td>0</td>\n",
       "      <td>0</td>\n",
       "      <td>100</td>\n",
       "    </tr>\n",
       "    <tr>\n",
       "      <th>11824</th>\n",
       "      <td>Zedruff Shampoo</td>\n",
       "      <td>Ketoconazole (2% w/v) + Zinc pyrithione (1% w/v)</td>\n",
       "      <td>Treatment of Dandruff</td>\n",
       "      <td>https://onemg.gumlet.io/l_watermark_346,w_480,...</td>\n",
       "      <td>Minova Life Sciences Pvt Ltd</td>\n",
       "      <td>0</td>\n",
       "      <td>0</td>\n",
       "      <td>100</td>\n",
       "    </tr>\n",
       "  </tbody>\n",
       "</table>\n",
       "<p>169 rows × 8 columns</p>\n",
       "</div>"
      ],
      "text/plain": [
       "                            Medicine Name  \\\n",
       "779           Aristogyl-F Oral Suspension   \n",
       "780           Aristogyl-F Oral Suspension   \n",
       "955                  Apexitra 200 Capsule   \n",
       "956                  Apexitra 200 Capsule   \n",
       "1120                Amyclox-LB-DS Capsule   \n",
       "...                                   ...   \n",
       "11228              Vomicare Oral Solution   \n",
       "11405  Xrate Cough Expectorant Sugar Free   \n",
       "11406  Xrate Cough Expectorant Sugar Free   \n",
       "11823                     Zedruff Shampoo   \n",
       "11824                     Zedruff Shampoo   \n",
       "\n",
       "                                             Composition  \\\n",
       "779    Furazolidone (30mg/5ml) + Metronidazole (100mg...   \n",
       "780    Furazolidone (30mg/5ml) + Metronidazole (100mg...   \n",
       "955                                 Itraconazole (200mg)   \n",
       "956                                 Itraconazole (200mg)   \n",
       "1120   Amoxycillin (250mg) + Cloxacillin (250mg) + La...   \n",
       "...                                                  ...   \n",
       "11228                              Ondansetron (2mg/5ml)   \n",
       "11405  Ambroxol (15mg/5ml) + Guaifenesin (50mg/5ml) +...   \n",
       "11406  Ambroxol (15mg/5ml) + Guaifenesin (50mg/5ml) +...   \n",
       "11823   Ketoconazole (2% w/v) + Zinc pyrithione (1% w/v)   \n",
       "11824   Ketoconazole (2% w/v) + Zinc pyrithione (1% w/v)   \n",
       "\n",
       "                                 Uses  \\\n",
       "779                Diarrhea Dysentery   \n",
       "780                Diarrhea Dysentery   \n",
       "955    Treatment of Fungal infections   \n",
       "956    Treatment of Fungal infections   \n",
       "1120             Bacterial infections   \n",
       "...                               ...   \n",
       "11228    Treatment of Nausea Vomiting   \n",
       "11405                           Cough   \n",
       "11406                           Cough   \n",
       "11823           Treatment of Dandruff   \n",
       "11824           Treatment of Dandruff   \n",
       "\n",
       "                                               Image URL  \\\n",
       "779    https://onemg.gumlet.io/l_watermark_346,w_480,...   \n",
       "780    https://onemg.gumlet.io/l_watermark_346,w_480,...   \n",
       "955    https://onemg.gumlet.io/l_watermark_346,w_480,...   \n",
       "956    https://onemg.gumlet.io/l_watermark_346,w_480,...   \n",
       "1120   https://onemg.gumlet.io/l_watermark_346,w_480,...   \n",
       "...                                                  ...   \n",
       "11228  https://onemg.gumlet.io/l_watermark_346,w_480,...   \n",
       "11405  https://onemg.gumlet.io/l_watermark_346,w_480,...   \n",
       "11406  https://onemg.gumlet.io/l_watermark_346,w_480,...   \n",
       "11823  https://onemg.gumlet.io/l_watermark_346,w_480,...   \n",
       "11824  https://onemg.gumlet.io/l_watermark_346,w_480,...   \n",
       "\n",
       "                         Manufacturer  Excellent Review %  Average Review %  \\\n",
       "779    Aristo Pharmaceuticals Pvt Ltd                  22                28   \n",
       "780    Aristo Pharmaceuticals Pvt Ltd                  22                28   \n",
       "955         Apex Laboratories Pvt Ltd                  83                17   \n",
       "956         Apex Laboratories Pvt Ltd                  83                17   \n",
       "1120       Ind Swift Laboratories Ltd                   0                 0   \n",
       "...                               ...                 ...               ...   \n",
       "11228    Suncare Formulations Pvt Ltd                   0                 0   \n",
       "11405      Celsius Healthcare Pvt Ltd                  67                33   \n",
       "11406      Celsius Healthcare Pvt Ltd                  67                33   \n",
       "11823    Minova Life Sciences Pvt Ltd                   0                 0   \n",
       "11824    Minova Life Sciences Pvt Ltd                   0                 0   \n",
       "\n",
       "       Poor Review %  \n",
       "779               50  \n",
       "780               50  \n",
       "955                0  \n",
       "956                0  \n",
       "1120             100  \n",
       "...              ...  \n",
       "11228            100  \n",
       "11405              0  \n",
       "11406              0  \n",
       "11823            100  \n",
       "11824            100  \n",
       "\n",
       "[169 rows x 8 columns]"
      ]
     },
     "execution_count": 52,
     "metadata": {},
     "output_type": "execute_result"
    }
   ],
   "source": [
    "# 중복된 행 확인\n",
    "meds[meds.duplicated(keep = False)]"
   ]
  },
  {
   "cell_type": "code",
   "execution_count": 53,
   "metadata": {
    "colab": {
     "base_uri": "https://localhost:8080/"
    },
    "id": "QvHaZvhurB60",
    "outputId": "eba1ac74-e3f4-489f-eb5d-ee3d9d10cc1e"
   },
   "outputs": [
    {
     "data": {
      "text/plain": [
       "85"
      ]
     },
     "execution_count": 53,
     "metadata": {},
     "output_type": "execute_result"
    }
   ],
   "source": [
    "meds.duplicated().sum()"
   ]
  },
  {
   "cell_type": "code",
   "execution_count": 54,
   "metadata": {
    "colab": {
     "base_uri": "https://localhost:8080/"
    },
    "id": "HxWyxAiNrDA_",
    "outputId": "b95a4b37-1046-4f97-8322-0dd577a575d0",
    "scrolled": true
   },
   "outputs": [
    {
     "name": "stderr",
     "output_type": "stream",
     "text": [
      "<ipython-input-54-2ac7c8777cca>:1: SettingWithCopyWarning: \n",
      "A value is trying to be set on a copy of a slice from a DataFrame\n",
      "\n",
      "See the caveats in the documentation: https://pandas.pydata.org/pandas-docs/stable/user_guide/indexing.html#returning-a-view-versus-a-copy\n",
      "  meds.drop_duplicates(inplace=True)\n"
     ]
    }
   ],
   "source": [
    "meds.drop_duplicates(inplace=True)"
   ]
  },
  {
   "cell_type": "markdown",
   "metadata": {},
   "source": [
    "# EDA"
   ]
  },
  {
   "cell_type": "code",
   "execution_count": 55,
   "metadata": {
    "colab": {
     "base_uri": "https://localhost:8080/"
    },
    "id": "Kbc-rfKUrM3S",
    "outputId": "6f5a9a01-2c73-485c-f155-29fb6a0d80ff"
   },
   "outputs": [
    {
     "data": {
      "text/plain": [
       "Composition\n",
       "Luliconazole (1% w/w)                                                                                   98\n",
       "Levocetirizine (5mg) + Montelukast (10mg)                                                               76\n",
       "Ketoconazole (2% w/w)                                                                                   61\n",
       "Domperidone (30mg) + Rabeprazole (20mg)                                                                 59\n",
       "Itraconazole (100mg)                                                                                    53\n",
       "                                                                                                        ..\n",
       "Digoxin (0.25mg)                                                                                         1\n",
       "Sulphacetamide (20% w/v)                                                                                 1\n",
       "Furosemide (10mg/ml)                                                                                     1\n",
       "Chloroquine (500mg)                                                                                      1\n",
       "Chromium Picolinate (100mcg) + D-Chiro Inositol (13.8mg) + Myo-Inositol (550mg) + Vitamin D3 (200IU)     1\n",
       "Name: count, Length: 3358, dtype: int64"
      ]
     },
     "execution_count": 55,
     "metadata": {},
     "output_type": "execute_result"
    }
   ],
   "source": [
    "meds['Composition'].value_counts()"
   ]
  },
  {
   "cell_type": "code",
   "execution_count": 56,
   "metadata": {
    "id": "gOJdpfswrPqO"
   },
   "outputs": [],
   "source": [
    "# 'Composition' 열에서 각 성분의 등장 횟수를 세어서 상위 20개를 추출합니다.\n",
    "comp_name = list(meds['Composition'].value_counts().keys())[0:20]\n",
    "count_of_meds_with_that_comp = list(meds['Composition'].value_counts())[0:20]"
   ]
  },
  {
   "cell_type": "code",
   "execution_count": 57,
   "metadata": {
    "colab": {
     "base_uri": "https://localhost:8080/",
     "height": 675
    },
    "id": "VG8BwDApr3M6",
    "outputId": "a51d90f1-ff24-468d-86ce-d4ad35c3104c"
   },
   "outputs": [
    {
     "data": {
      "image/png": "[encoded data removed]",
      "text/plain": [
       "<Figure size 1440x720 with 1 Axes>"
      ]
     },
     "metadata": {
      "needs_background": "light"
     },
     "output_type": "display_data"
    }
   ],
   "source": [
    "# Composition\n",
    "\n",
    "from matplotlib import pyplot as plt\n",
    "\n",
    "plt.figure(figsize=(20,10))\n",
    "plt.bar(comp_name, count_of_meds_with_that_comp, color = 'b')\n",
    "plt.grid(True)\n",
    "plt.title('Count of Meds with same composition')\n",
    "plt.xticks(rotation=90)\n",
    "plt.xlabel('comp name')\n",
    "plt.ylabel('Count Of Medicine')\n",
    "plt.show()"
   ]
  },
  {
   "cell_type": "code",
   "execution_count": 58,
   "metadata": {
    "colab": {
     "base_uri": "https://localhost:8080/",
     "height": 799
    },
    "id": "Eq3uS5ZGsrIJ",
    "outputId": "79f6d852-f3ab-4d96-9e1e-5d178c478a53"
   },
   "outputs": [
    {
     "data": {
      "image/png": "[encoded data removed]",
      "text/plain": [
       "<Figure size 1008x432 with 1 Axes>"
      ]
     },
     "metadata": {
      "needs_background": "light"
     },
     "output_type": "display_data"
    }
   ],
   "source": [
    "# Composition 별로 고유한 Excellent Review % 값의 수 계산\n",
    "composition_er = med.groupby(['Composition'])['Excellent Review %'].nunique().sort_values(ascending=False)\n",
    "\n",
    "# Top 20 Composition에 대한 막대 그래프 생성\n",
    "composition_er[0:20].plot(kind=\"bar\", figsize=(14, 6), fontsize=10, color=\"pink\")\n",
    "\n",
    "# x축 및 y축 라벨 설정\n",
    "plt.xlabel(\"Composition\", fontsize=15)\n",
    "plt.ylabel(\"Number of unique Excellent Review %\", fontsize=15)\n",
    "\n",
    "# 그래프 제목 설정\n",
    "plt.title(\"Top 20 Compositions with the most unique Excellent Review % values\", fontsize=20)\n",
    "plt.show()\n"
   ]
  },
  {
   "cell_type": "code",
   "execution_count": 59,
   "metadata": {
    "colab": {
     "base_uri": "https://localhost:8080/"
    },
    "id": "_fYGICI0tuZz",
    "outputId": "ff190ffd-567d-4211-c434-e0567d1463d1"
   },
   "outputs": [
    {
     "data": {
      "text/plain": [
       "Manufacturer\n",
       "Sun Pharmaceutical Industries Ltd    819\n",
       "Intas Pharmaceuticals Ltd            648\n",
       "Cipla Ltd                            569\n",
       "Torrent Pharmaceuticals Ltd          441\n",
       "Lupin Ltd                            432\n",
       "                                    ... \n",
       "Denis Chem Lab Ltd                     1\n",
       "Shilpex Pharmysis                      1\n",
       "Romas Remedies                         1\n",
       "Astech Pharma Pvt Ltd                  1\n",
       "Minova Life Sciences Pvt Ltd           1\n",
       "Name: count, Length: 759, dtype: int64"
      ]
     },
     "execution_count": 59,
     "metadata": {},
     "output_type": "execute_result"
    }
   ],
   "source": [
    "meds['Manufacturer'].value_counts()"
   ]
  },
  {
   "cell_type": "code",
   "execution_count": 60,
   "metadata": {
    "id": "EWrSmdeQtzCJ"
   },
   "outputs": [],
   "source": [
    "manu_name = list(meds['Manufacturer'].value_counts().keys())[0:20]\n",
    "count_manufacture_name = list(meds['Manufacturer'].value_counts())[0:20]"
   ]
  },
  {
   "cell_type": "code",
   "execution_count": 61,
   "metadata": {
    "colab": {
     "base_uri": "https://localhost:8080/",
     "height": 590
    },
    "id": "fhZkcnN9uSyt",
    "outputId": "bb83cbfd-f3ec-4810-e286-715a49016984"
   },
   "outputs": [
    {
     "data": {
      "image/png": "[encoded data removed]",
      "text/plain": [
       "<Figure size 1440x720 with 1 Axes>"
      ]
     },
     "metadata": {
      "needs_background": "light"
     },
     "output_type": "display_data"
    }
   ],
   "source": [
    "# Manufacturer\n",
    "\n",
    "plt.figure(figsize=(20,10))\n",
    "plt.bar(manu_name, count_manufacture_name, color = 'r')\n",
    "plt.grid(True)\n",
    "plt.title('Count of Meds with same Manufacturer', fontsize=20)\n",
    "plt.xticks(rotation=90)\n",
    "plt.xlabel('manu_name', fontsize=15)\n",
    "plt.ylabel('Count Of Medicine', fontsize=15)\n",
    "plt.show()"
   ]
  },
  {
   "cell_type": "code",
   "execution_count": 62,
   "metadata": {
    "colab": {
     "base_uri": "https://localhost:8080/",
     "height": 583
    },
    "id": "mJdZzshquWZ1",
    "outputId": "689873e7-6f3e-4b1a-c786-7db1233737e4"
   },
   "outputs": [
    {
     "data": {
      "image/png": "[encoded data removed]",
      "text/plain": [
       "<Figure size 1008x432 with 1 Axes>"
      ]
     },
     "metadata": {
      "needs_background": "light"
     },
     "output_type": "display_data"
    }
   ],
   "source": [
    "# 제조사 별로 고유한 Excellent Review % 값의 수 계산\n",
    "manufact_er = med.groupby(['Manufacturer'])['Excellent Review %'].nunique().sort_values(ascending=False)\n",
    "\n",
    "# Top 20 제조사에 대한 막대 그래프 생성\n",
    "manufact_er[0:20].plot(kind=\"bar\", figsize=(14, 6), fontsize=10, color=\"green\")\n",
    "\n",
    "# x축 및 y축 라벨 설정\n",
    "plt.xlabel(\"Manufacturer\", fontsize=15)\n",
    "plt.ylabel(\"Number of unique Excellent Review %\", fontsize=15)\n",
    "\n",
    "# 그래프 제목 설정\n",
    "plt.title(\"Top 20 Manufacturers with the most unique Excellent Review % values\", fontsize=20)\n",
    "plt.show()"
   ]
  },
  {
   "cell_type": "code",
   "execution_count": 63,
   "metadata": {},
   "outputs": [
    {
     "data": {
      "image/png": "[encoded data removed]",
      "text/plain": [
       "<Figure size 1008x432 with 1 Axes>"
      ]
     },
     "metadata": {
      "needs_background": "light"
     },
     "output_type": "display_data"
    }
   ],
   "source": [
    "# 질병(사용목적) 별로 고유한 Excellent Review % 값의 수 계산\n",
    "Uses_er = med.groupby(['Uses'])['Excellent Review %'].nunique().sort_values(ascending=False)\n",
    "\n",
    "# Top 20 질병에 대한 막대 그래프 생성\n",
    "Uses_er[0:20].plot(kind=\"bar\", figsize=(14, 6), fontsize=10, color=\"brown\")\n",
    "\n",
    "# x축 및 y축 라벨 설정\n",
    "plt.xlabel(\"Uses\", fontsize=15)\n",
    "plt.ylabel(\"Number of unique Excellent Review %\", fontsize=15)\n",
    "\n",
    "# 그래프 제목 설정\n",
    "plt.title(\"Top 20 Uses with the most unique Excellent Review % values\", fontsize=20)\n",
    "plt.show()"
   ]
  },
  {
   "cell_type": "markdown",
   "metadata": {},
   "source": [
    "### 구성, 제조사, 질병에 따른 평가 점수의 추천시스템?"
   ]
  },
  {
   "cell_type": "markdown",
   "metadata": {},
   "source": [
    "# 전처리"
   ]
  },
  {
   "cell_type": "code",
   "execution_count": 64,
   "metadata": {
    "colab": {
     "base_uri": "https://localhost:8080/"
    },
    "id": "b3kzFCzQu9uo",
    "outputId": "326ed616-a0aa-4f66-89a2-4d017fdc2f35"
   },
   "outputs": [
    {
     "name": "stderr",
     "output_type": "stream",
     "text": [
      "<ipython-input-64-503500b7ff27>:7: SettingWithCopyWarning: \n",
      "A value is trying to be set on a copy of a slice from a DataFrame.\n",
      "Try using .loc[row_indexer,col_indexer] = value instead\n",
      "\n",
      "See the caveats in the documentation: https://pandas.pydata.org/pandas-docs/stable/user_guide/indexing.html#returning-a-view-versus-a-copy\n",
      "  meds['Composition'] = meds['Composition'].apply(convert)\n"
     ]
    }
   ],
   "source": [
    "def convert(input_string):\n",
    "    # ' + '를 구분자로 사용하여 입력 문자열을 분할합니다.\n",
    "    comps = [item.strip() for item in input_string.split(' + ')]\n",
    "    return comps\n",
    "\n",
    "# 'Composition' 열에 있는 각 문자열에 대해 convert 함수를 적용하여 '+' 기호를 제거하고 성분을 리스트로 변환합니다.\n",
    "meds['Composition'] = meds['Composition'].apply(convert)"
   ]
  },
  {
   "cell_type": "code",
   "execution_count": 65,
   "metadata": {
    "colab": {
     "base_uri": "https://localhost:8080/",
     "height": 469
    },
    "id": "ptaI0G92wHgc",
    "outputId": "5e38c41e-87b6-4195-d4ff-83dfa3f34e4b"
   },
   "outputs": [
    {
     "data": {
      "text/html": [
       "<div>\n",
       "<style scoped>\n",
       "    .dataframe tbody tr th:only-of-type {\n",
       "        vertical-align: middle;\n",
       "    }\n",
       "\n",
       "    .dataframe tbody tr th {\n",
       "        vertical-align: top;\n",
       "    }\n",
       "\n",
       "    .dataframe thead th {\n",
       "        text-align: right;\n",
       "    }\n",
       "</style>\n",
       "<table border=\"1\" class=\"dataframe\">\n",
       "  <thead>\n",
       "    <tr style=\"text-align: right;\">\n",
       "      <th></th>\n",
       "      <th>Medicine Name</th>\n",
       "      <th>Composition</th>\n",
       "      <th>Uses</th>\n",
       "      <th>Image URL</th>\n",
       "      <th>Manufacturer</th>\n",
       "      <th>Excellent Review %</th>\n",
       "      <th>Average Review %</th>\n",
       "      <th>Poor Review %</th>\n",
       "    </tr>\n",
       "  </thead>\n",
       "  <tbody>\n",
       "    <tr>\n",
       "      <th>0</th>\n",
       "      <td>Avastin 400mg Injection</td>\n",
       "      <td>[Bevacizumab (400mg)]</td>\n",
       "      <td>Cancer of colon and rectum Non-small cell lun...</td>\n",
       "      <td>https://onemg.gumlet.io/l_watermark_346,w_480,...</td>\n",
       "      <td>Roche Products India Pvt Ltd</td>\n",
       "      <td>22</td>\n",
       "      <td>56</td>\n",
       "      <td>22</td>\n",
       "    </tr>\n",
       "    <tr>\n",
       "      <th>1</th>\n",
       "      <td>Augmentin 625 Duo Tablet</td>\n",
       "      <td>[Amoxycillin  (500mg), Clavulanic Acid (125mg)]</td>\n",
       "      <td>Treatment of Bacterial infections</td>\n",
       "      <td>https://onemg.gumlet.io/l_watermark_346,w_480,...</td>\n",
       "      <td>Glaxo SmithKline Pharmaceuticals Ltd</td>\n",
       "      <td>47</td>\n",
       "      <td>35</td>\n",
       "      <td>18</td>\n",
       "    </tr>\n",
       "    <tr>\n",
       "      <th>2</th>\n",
       "      <td>Azithral 500 Tablet</td>\n",
       "      <td>[Azithromycin (500mg)]</td>\n",
       "      <td>Treatment of Bacterial infections</td>\n",
       "      <td>https://onemg.gumlet.io/l_watermark_346,w_480,...</td>\n",
       "      <td>Alembic Pharmaceuticals Ltd</td>\n",
       "      <td>39</td>\n",
       "      <td>40</td>\n",
       "      <td>21</td>\n",
       "    </tr>\n",
       "    <tr>\n",
       "      <th>3</th>\n",
       "      <td>Ascoril LS Syrup</td>\n",
       "      <td>[Ambroxol (30mg/5ml), Levosalbutamol (1mg/5ml)...</td>\n",
       "      <td>Treatment of Cough with mucus</td>\n",
       "      <td>https://onemg.gumlet.io/l_watermark_346,w_480,...</td>\n",
       "      <td>Glenmark Pharmaceuticals Ltd</td>\n",
       "      <td>24</td>\n",
       "      <td>41</td>\n",
       "      <td>35</td>\n",
       "    </tr>\n",
       "    <tr>\n",
       "      <th>4</th>\n",
       "      <td>Aciloc 150 Tablet</td>\n",
       "      <td>[Ranitidine (150mg)]</td>\n",
       "      <td>Treatment of Gastroesophageal reflux disease (...</td>\n",
       "      <td>https://onemg.gumlet.io/l_watermark_346,w_480,...</td>\n",
       "      <td>Cadila Pharmaceuticals Ltd</td>\n",
       "      <td>34</td>\n",
       "      <td>37</td>\n",
       "      <td>29</td>\n",
       "    </tr>\n",
       "  </tbody>\n",
       "</table>\n",
       "</div>"
      ],
      "text/plain": [
       "              Medicine Name  \\\n",
       "0   Avastin 400mg Injection   \n",
       "1  Augmentin 625 Duo Tablet   \n",
       "2       Azithral 500 Tablet   \n",
       "3          Ascoril LS Syrup   \n",
       "4         Aciloc 150 Tablet   \n",
       "\n",
       "                                         Composition  \\\n",
       "0                              [Bevacizumab (400mg)]   \n",
       "1    [Amoxycillin  (500mg), Clavulanic Acid (125mg)]   \n",
       "2                             [Azithromycin (500mg)]   \n",
       "3  [Ambroxol (30mg/5ml), Levosalbutamol (1mg/5ml)...   \n",
       "4                               [Ranitidine (150mg)]   \n",
       "\n",
       "                                                Uses  \\\n",
       "0   Cancer of colon and rectum Non-small cell lun...   \n",
       "1                  Treatment of Bacterial infections   \n",
       "2                  Treatment of Bacterial infections   \n",
       "3                      Treatment of Cough with mucus   \n",
       "4  Treatment of Gastroesophageal reflux disease (...   \n",
       "\n",
       "                                           Image URL  \\\n",
       "0  https://onemg.gumlet.io/l_watermark_346,w_480,...   \n",
       "1  https://onemg.gumlet.io/l_watermark_346,w_480,...   \n",
       "2  https://onemg.gumlet.io/l_watermark_346,w_480,...   \n",
       "3  https://onemg.gumlet.io/l_watermark_346,w_480,...   \n",
       "4  https://onemg.gumlet.io/l_watermark_346,w_480,...   \n",
       "\n",
       "                           Manufacturer  Excellent Review %  Average Review %  \\\n",
       "0          Roche Products India Pvt Ltd                  22                56   \n",
       "1  Glaxo SmithKline Pharmaceuticals Ltd                  47                35   \n",
       "2           Alembic Pharmaceuticals Ltd                  39                40   \n",
       "3          Glenmark Pharmaceuticals Ltd                  24                41   \n",
       "4            Cadila Pharmaceuticals Ltd                  34                37   \n",
       "\n",
       "   Poor Review %  \n",
       "0             22  \n",
       "1             18  \n",
       "2             21  \n",
       "3             35  \n",
       "4             29  "
      ]
     },
     "execution_count": 65,
     "metadata": {},
     "output_type": "execute_result"
    }
   ],
   "source": [
    "meds.head()"
   ]
  },
  {
   "cell_type": "code",
   "execution_count": 66,
   "metadata": {
    "colab": {
     "base_uri": "https://localhost:8080/"
    },
    "id": "thbDhLMZwOHQ",
    "outputId": "5bdf0315-7818-401a-9157-b737fbe295a7"
   },
   "outputs": [
    {
     "name": "stderr",
     "output_type": "stream",
     "text": [
      "<ipython-input-66-707084cd80eb>:2: SettingWithCopyWarning: \n",
      "A value is trying to be set on a copy of a slice from a DataFrame.\n",
      "Try using .loc[row_indexer,col_indexer] = value instead\n",
      "\n",
      "See the caveats in the documentation: https://pandas.pydata.org/pandas-docs/stable/user_guide/indexing.html#returning-a-view-versus-a-copy\n",
      "  meds['Uses'] = meds['Uses'].apply(lambda x: x.split())\n"
     ]
    }
   ],
   "source": [
    "# 'Uses' 열의 각 행에 대해 문자열을 공백을 기준으로 나누어 리스트로 변환\n",
    "meds['Uses'] = meds['Uses'].apply(lambda x: x.split())"
   ]
  },
  {
   "cell_type": "code",
   "execution_count": 67,
   "metadata": {
    "colab": {
     "base_uri": "https://localhost:8080/",
     "height": 469
    },
    "id": "Fvims1CQxNFL",
    "outputId": "ce45fb3f-ce1a-42af-f17a-70a7f2f50e13"
   },
   "outputs": [
    {
     "data": {
      "text/html": [
       "<div>\n",
       "<style scoped>\n",
       "    .dataframe tbody tr th:only-of-type {\n",
       "        vertical-align: middle;\n",
       "    }\n",
       "\n",
       "    .dataframe tbody tr th {\n",
       "        vertical-align: top;\n",
       "    }\n",
       "\n",
       "    .dataframe thead th {\n",
       "        text-align: right;\n",
       "    }\n",
       "</style>\n",
       "<table border=\"1\" class=\"dataframe\">\n",
       "  <thead>\n",
       "    <tr style=\"text-align: right;\">\n",
       "      <th></th>\n",
       "      <th>Medicine Name</th>\n",
       "      <th>Composition</th>\n",
       "      <th>Uses</th>\n",
       "      <th>Image URL</th>\n",
       "      <th>Manufacturer</th>\n",
       "      <th>Excellent Review %</th>\n",
       "      <th>Average Review %</th>\n",
       "      <th>Poor Review %</th>\n",
       "    </tr>\n",
       "  </thead>\n",
       "  <tbody>\n",
       "    <tr>\n",
       "      <th>0</th>\n",
       "      <td>Avastin 400mg Injection</td>\n",
       "      <td>[Bevacizumab (400mg)]</td>\n",
       "      <td>[Cancer, of, colon, and, rectum, Non-small, ce...</td>\n",
       "      <td>https://onemg.gumlet.io/l_watermark_346,w_480,...</td>\n",
       "      <td>Roche Products India Pvt Ltd</td>\n",
       "      <td>22</td>\n",
       "      <td>56</td>\n",
       "      <td>22</td>\n",
       "    </tr>\n",
       "    <tr>\n",
       "      <th>1</th>\n",
       "      <td>Augmentin 625 Duo Tablet</td>\n",
       "      <td>[Amoxycillin  (500mg), Clavulanic Acid (125mg)]</td>\n",
       "      <td>[Treatment, of, Bacterial, infections]</td>\n",
       "      <td>https://onemg.gumlet.io/l_watermark_346,w_480,...</td>\n",
       "      <td>Glaxo SmithKline Pharmaceuticals Ltd</td>\n",
       "      <td>47</td>\n",
       "      <td>35</td>\n",
       "      <td>18</td>\n",
       "    </tr>\n",
       "    <tr>\n",
       "      <th>2</th>\n",
       "      <td>Azithral 500 Tablet</td>\n",
       "      <td>[Azithromycin (500mg)]</td>\n",
       "      <td>[Treatment, of, Bacterial, infections]</td>\n",
       "      <td>https://onemg.gumlet.io/l_watermark_346,w_480,...</td>\n",
       "      <td>Alembic Pharmaceuticals Ltd</td>\n",
       "      <td>39</td>\n",
       "      <td>40</td>\n",
       "      <td>21</td>\n",
       "    </tr>\n",
       "    <tr>\n",
       "      <th>3</th>\n",
       "      <td>Ascoril LS Syrup</td>\n",
       "      <td>[Ambroxol (30mg/5ml), Levosalbutamol (1mg/5ml)...</td>\n",
       "      <td>[Treatment, of, Cough, with, mucus]</td>\n",
       "      <td>https://onemg.gumlet.io/l_watermark_346,w_480,...</td>\n",
       "      <td>Glenmark Pharmaceuticals Ltd</td>\n",
       "      <td>24</td>\n",
       "      <td>41</td>\n",
       "      <td>35</td>\n",
       "    </tr>\n",
       "    <tr>\n",
       "      <th>4</th>\n",
       "      <td>Aciloc 150 Tablet</td>\n",
       "      <td>[Ranitidine (150mg)]</td>\n",
       "      <td>[Treatment, of, Gastroesophageal, reflux, dise...</td>\n",
       "      <td>https://onemg.gumlet.io/l_watermark_346,w_480,...</td>\n",
       "      <td>Cadila Pharmaceuticals Ltd</td>\n",
       "      <td>34</td>\n",
       "      <td>37</td>\n",
       "      <td>29</td>\n",
       "    </tr>\n",
       "  </tbody>\n",
       "</table>\n",
       "</div>"
      ],
      "text/plain": [
       "              Medicine Name  \\\n",
       "0   Avastin 400mg Injection   \n",
       "1  Augmentin 625 Duo Tablet   \n",
       "2       Azithral 500 Tablet   \n",
       "3          Ascoril LS Syrup   \n",
       "4         Aciloc 150 Tablet   \n",
       "\n",
       "                                         Composition  \\\n",
       "0                              [Bevacizumab (400mg)]   \n",
       "1    [Amoxycillin  (500mg), Clavulanic Acid (125mg)]   \n",
       "2                             [Azithromycin (500mg)]   \n",
       "3  [Ambroxol (30mg/5ml), Levosalbutamol (1mg/5ml)...   \n",
       "4                               [Ranitidine (150mg)]   \n",
       "\n",
       "                                                Uses  \\\n",
       "0  [Cancer, of, colon, and, rectum, Non-small, ce...   \n",
       "1             [Treatment, of, Bacterial, infections]   \n",
       "2             [Treatment, of, Bacterial, infections]   \n",
       "3                [Treatment, of, Cough, with, mucus]   \n",
       "4  [Treatment, of, Gastroesophageal, reflux, dise...   \n",
       "\n",
       "                                           Image URL  \\\n",
       "0  https://onemg.gumlet.io/l_watermark_346,w_480,...   \n",
       "1  https://onemg.gumlet.io/l_watermark_346,w_480,...   \n",
       "2  https://onemg.gumlet.io/l_watermark_346,w_480,...   \n",
       "3  https://onemg.gumlet.io/l_watermark_346,w_480,...   \n",
       "4  https://onemg.gumlet.io/l_watermark_346,w_480,...   \n",
       "\n",
       "                           Manufacturer  Excellent Review %  Average Review %  \\\n",
       "0          Roche Products India Pvt Ltd                  22                56   \n",
       "1  Glaxo SmithKline Pharmaceuticals Ltd                  47                35   \n",
       "2           Alembic Pharmaceuticals Ltd                  39                40   \n",
       "3          Glenmark Pharmaceuticals Ltd                  24                41   \n",
       "4            Cadila Pharmaceuticals Ltd                  34                37   \n",
       "\n",
       "   Poor Review %  \n",
       "0             22  \n",
       "1             18  \n",
       "2             21  \n",
       "3             35  \n",
       "4             29  "
      ]
     },
     "execution_count": 67,
     "metadata": {},
     "output_type": "execute_result"
    }
   ],
   "source": [
    "meds.head()"
   ]
  },
  {
   "cell_type": "code",
   "execution_count": 68,
   "metadata": {
    "colab": {
     "base_uri": "https://localhost:8080/",
     "height": 562
    },
    "id": "1miie053xOvw",
    "outputId": "374a5e1f-5855-4d4b-be08-92d9371d0eb7"
   },
   "outputs": [
    {
     "name": "stderr",
     "output_type": "stream",
     "text": [
      "<ipython-input-68-225f93063042>:2: SettingWithCopyWarning: \n",
      "A value is trying to be set on a copy of a slice from a DataFrame.\n",
      "Try using .loc[row_indexer,col_indexer] = value instead\n",
      "\n",
      "See the caveats in the documentation: https://pandas.pydata.org/pandas-docs/stable/user_guide/indexing.html#returning-a-view-versus-a-copy\n",
      "  meds['Composition'] = meds['Composition'].apply(lambda x: [i.replace(\" \", \"\") for i in x])\n"
     ]
    },
    {
     "data": {
      "text/html": [
       "<div>\n",
       "<style scoped>\n",
       "    .dataframe tbody tr th:only-of-type {\n",
       "        vertical-align: middle;\n",
       "    }\n",
       "\n",
       "    .dataframe tbody tr th {\n",
       "        vertical-align: top;\n",
       "    }\n",
       "\n",
       "    .dataframe thead th {\n",
       "        text-align: right;\n",
       "    }\n",
       "</style>\n",
       "<table border=\"1\" class=\"dataframe\">\n",
       "  <thead>\n",
       "    <tr style=\"text-align: right;\">\n",
       "      <th></th>\n",
       "      <th>Medicine Name</th>\n",
       "      <th>Composition</th>\n",
       "      <th>Uses</th>\n",
       "      <th>Image URL</th>\n",
       "      <th>Manufacturer</th>\n",
       "      <th>Excellent Review %</th>\n",
       "      <th>Average Review %</th>\n",
       "      <th>Poor Review %</th>\n",
       "    </tr>\n",
       "  </thead>\n",
       "  <tbody>\n",
       "    <tr>\n",
       "      <th>0</th>\n",
       "      <td>Avastin 400mg Injection</td>\n",
       "      <td>[Bevacizumab(400mg)]</td>\n",
       "      <td>[Cancer, of, colon, and, rectum, Non-small, ce...</td>\n",
       "      <td>https://onemg.gumlet.io/l_watermark_346,w_480,...</td>\n",
       "      <td>Roche Products India Pvt Ltd</td>\n",
       "      <td>22</td>\n",
       "      <td>56</td>\n",
       "      <td>22</td>\n",
       "    </tr>\n",
       "    <tr>\n",
       "      <th>1</th>\n",
       "      <td>Augmentin 625 Duo Tablet</td>\n",
       "      <td>[Amoxycillin(500mg), ClavulanicAcid(125mg)]</td>\n",
       "      <td>[Treatment, of, Bacterial, infections]</td>\n",
       "      <td>https://onemg.gumlet.io/l_watermark_346,w_480,...</td>\n",
       "      <td>Glaxo SmithKline Pharmaceuticals Ltd</td>\n",
       "      <td>47</td>\n",
       "      <td>35</td>\n",
       "      <td>18</td>\n",
       "    </tr>\n",
       "    <tr>\n",
       "      <th>2</th>\n",
       "      <td>Azithral 500 Tablet</td>\n",
       "      <td>[Azithromycin(500mg)]</td>\n",
       "      <td>[Treatment, of, Bacterial, infections]</td>\n",
       "      <td>https://onemg.gumlet.io/l_watermark_346,w_480,...</td>\n",
       "      <td>Alembic Pharmaceuticals Ltd</td>\n",
       "      <td>39</td>\n",
       "      <td>40</td>\n",
       "      <td>21</td>\n",
       "    </tr>\n",
       "    <tr>\n",
       "      <th>3</th>\n",
       "      <td>Ascoril LS Syrup</td>\n",
       "      <td>[Ambroxol(30mg/5ml), Levosalbutamol(1mg/5ml), ...</td>\n",
       "      <td>[Treatment, of, Cough, with, mucus]</td>\n",
       "      <td>https://onemg.gumlet.io/l_watermark_346,w_480,...</td>\n",
       "      <td>Glenmark Pharmaceuticals Ltd</td>\n",
       "      <td>24</td>\n",
       "      <td>41</td>\n",
       "      <td>35</td>\n",
       "    </tr>\n",
       "    <tr>\n",
       "      <th>4</th>\n",
       "      <td>Aciloc 150 Tablet</td>\n",
       "      <td>[Ranitidine(150mg)]</td>\n",
       "      <td>[Treatment, of, Gastroesophageal, reflux, dise...</td>\n",
       "      <td>https://onemg.gumlet.io/l_watermark_346,w_480,...</td>\n",
       "      <td>Cadila Pharmaceuticals Ltd</td>\n",
       "      <td>34</td>\n",
       "      <td>37</td>\n",
       "      <td>29</td>\n",
       "    </tr>\n",
       "  </tbody>\n",
       "</table>\n",
       "</div>"
      ],
      "text/plain": [
       "              Medicine Name  \\\n",
       "0   Avastin 400mg Injection   \n",
       "1  Augmentin 625 Duo Tablet   \n",
       "2       Azithral 500 Tablet   \n",
       "3          Ascoril LS Syrup   \n",
       "4         Aciloc 150 Tablet   \n",
       "\n",
       "                                         Composition  \\\n",
       "0                               [Bevacizumab(400mg)]   \n",
       "1        [Amoxycillin(500mg), ClavulanicAcid(125mg)]   \n",
       "2                              [Azithromycin(500mg)]   \n",
       "3  [Ambroxol(30mg/5ml), Levosalbutamol(1mg/5ml), ...   \n",
       "4                                [Ranitidine(150mg)]   \n",
       "\n",
       "                                                Uses  \\\n",
       "0  [Cancer, of, colon, and, rectum, Non-small, ce...   \n",
       "1             [Treatment, of, Bacterial, infections]   \n",
       "2             [Treatment, of, Bacterial, infections]   \n",
       "3                [Treatment, of, Cough, with, mucus]   \n",
       "4  [Treatment, of, Gastroesophageal, reflux, dise...   \n",
       "\n",
       "                                           Image URL  \\\n",
       "0  https://onemg.gumlet.io/l_watermark_346,w_480,...   \n",
       "1  https://onemg.gumlet.io/l_watermark_346,w_480,...   \n",
       "2  https://onemg.gumlet.io/l_watermark_346,w_480,...   \n",
       "3  https://onemg.gumlet.io/l_watermark_346,w_480,...   \n",
       "4  https://onemg.gumlet.io/l_watermark_346,w_480,...   \n",
       "\n",
       "                           Manufacturer  Excellent Review %  Average Review %  \\\n",
       "0          Roche Products India Pvt Ltd                  22                56   \n",
       "1  Glaxo SmithKline Pharmaceuticals Ltd                  47                35   \n",
       "2           Alembic Pharmaceuticals Ltd                  39                40   \n",
       "3          Glenmark Pharmaceuticals Ltd                  24                41   \n",
       "4            Cadila Pharmaceuticals Ltd                  34                37   \n",
       "\n",
       "   Poor Review %  \n",
       "0             22  \n",
       "1             18  \n",
       "2             21  \n",
       "3             35  \n",
       "4             29  "
      ]
     },
     "execution_count": 68,
     "metadata": {},
     "output_type": "execute_result"
    }
   ],
   "source": [
    "# 'Composition' 열의 각 행에 대해 성분 리스트에서 각 성분의 이름과 양 사이의 공백을 제거\n",
    "meds['Composition'] = meds['Composition'].apply(lambda x: [i.replace(\" \", \"\") for i in x])\n",
    "\n",
    "meds.head()"
   ]
  },
  {
   "cell_type": "code",
   "execution_count": 69,
   "metadata": {
    "colab": {
     "base_uri": "https://localhost:8080/"
    },
    "id": "pHeMgzxJx0GI",
    "outputId": "a55ce017-3805-4fea-9553-a939303ac4e8"
   },
   "outputs": [
    {
     "name": "stderr",
     "output_type": "stream",
     "text": [
      "<ipython-input-69-bba9e3716323>:10: SettingWithCopyWarning: \n",
      "A value is trying to be set on a copy of a slice from a DataFrame.\n",
      "Try using .loc[row_indexer,col_indexer] = value instead\n",
      "\n",
      "See the caveats in the documentation: https://pandas.pydata.org/pandas-docs/stable/user_guide/indexing.html#returning-a-view-versus-a-copy\n",
      "  meds['Medicine Score'] = round((meds['Excellent Review %']/100 * weight_excell) +\n"
     ]
    }
   ],
   "source": [
    "# 각 약물에 대한 \"약품 평가점수(Medicine Score)\"를 계산\n",
    "# 가중치와 점수 계산식: (excell_improvement/100 * weight_excell) + (avg_improvement/100 * weight_avg) + (poor_improvement/100 * weight_poor)\n",
    "\n",
    "# 미리 정의된 가중치\n",
    "weight_excell = 5.0\n",
    "weight_avg = 3.0\n",
    "weight_poor = 1.0\n",
    "\n",
    "# 약품 평가점수 계산 및 'Medicine Score' 열에 저장\n",
    "meds['Medicine Score'] = round((meds['Excellent Review %']/100 * weight_excell) +\n",
    "                               (meds['Average Review %']/100 * weight_avg) +\n",
    "                               (meds['Poor Review %']/100 * weight_poor), 2)"
   ]
  },
  {
   "cell_type": "code",
   "execution_count": 70,
   "metadata": {
    "colab": {
     "base_uri": "https://localhost:8080/",
     "height": 452
    },
    "id": "bIdpUMMfyn0y",
    "outputId": "73d31db6-9606-428a-e291-166329618507"
   },
   "outputs": [
    {
     "data": {
      "text/html": [
       "<div>\n",
       "<style scoped>\n",
       "    .dataframe tbody tr th:only-of-type {\n",
       "        vertical-align: middle;\n",
       "    }\n",
       "\n",
       "    .dataframe tbody tr th {\n",
       "        vertical-align: top;\n",
       "    }\n",
       "\n",
       "    .dataframe thead th {\n",
       "        text-align: right;\n",
       "    }\n",
       "</style>\n",
       "<table border=\"1\" class=\"dataframe\">\n",
       "  <thead>\n",
       "    <tr style=\"text-align: right;\">\n",
       "      <th></th>\n",
       "      <th>Medicine Name</th>\n",
       "      <th>Composition</th>\n",
       "      <th>Uses</th>\n",
       "      <th>Image URL</th>\n",
       "      <th>Manufacturer</th>\n",
       "      <th>Excellent Review %</th>\n",
       "      <th>Average Review %</th>\n",
       "      <th>Poor Review %</th>\n",
       "      <th>Medicine Score</th>\n",
       "    </tr>\n",
       "  </thead>\n",
       "  <tbody>\n",
       "    <tr>\n",
       "      <th>0</th>\n",
       "      <td>Avastin 400mg Injection</td>\n",
       "      <td>[Bevacizumab(400mg)]</td>\n",
       "      <td>[Cancer, of, colon, and, rectum, Non-small, ce...</td>\n",
       "      <td>https://onemg.gumlet.io/l_watermark_346,w_480,...</td>\n",
       "      <td>Roche Products India Pvt Ltd</td>\n",
       "      <td>22</td>\n",
       "      <td>56</td>\n",
       "      <td>22</td>\n",
       "      <td>3.00</td>\n",
       "    </tr>\n",
       "    <tr>\n",
       "      <th>1</th>\n",
       "      <td>Augmentin 625 Duo Tablet</td>\n",
       "      <td>[Amoxycillin(500mg), ClavulanicAcid(125mg)]</td>\n",
       "      <td>[Treatment, of, Bacterial, infections]</td>\n",
       "      <td>https://onemg.gumlet.io/l_watermark_346,w_480,...</td>\n",
       "      <td>Glaxo SmithKline Pharmaceuticals Ltd</td>\n",
       "      <td>47</td>\n",
       "      <td>35</td>\n",
       "      <td>18</td>\n",
       "      <td>3.58</td>\n",
       "    </tr>\n",
       "    <tr>\n",
       "      <th>2</th>\n",
       "      <td>Azithral 500 Tablet</td>\n",
       "      <td>[Azithromycin(500mg)]</td>\n",
       "      <td>[Treatment, of, Bacterial, infections]</td>\n",
       "      <td>https://onemg.gumlet.io/l_watermark_346,w_480,...</td>\n",
       "      <td>Alembic Pharmaceuticals Ltd</td>\n",
       "      <td>39</td>\n",
       "      <td>40</td>\n",
       "      <td>21</td>\n",
       "      <td>3.36</td>\n",
       "    </tr>\n",
       "    <tr>\n",
       "      <th>3</th>\n",
       "      <td>Ascoril LS Syrup</td>\n",
       "      <td>[Ambroxol(30mg/5ml), Levosalbutamol(1mg/5ml), ...</td>\n",
       "      <td>[Treatment, of, Cough, with, mucus]</td>\n",
       "      <td>https://onemg.gumlet.io/l_watermark_346,w_480,...</td>\n",
       "      <td>Glenmark Pharmaceuticals Ltd</td>\n",
       "      <td>24</td>\n",
       "      <td>41</td>\n",
       "      <td>35</td>\n",
       "      <td>2.78</td>\n",
       "    </tr>\n",
       "    <tr>\n",
       "      <th>4</th>\n",
       "      <td>Aciloc 150 Tablet</td>\n",
       "      <td>[Ranitidine(150mg)]</td>\n",
       "      <td>[Treatment, of, Gastroesophageal, reflux, dise...</td>\n",
       "      <td>https://onemg.gumlet.io/l_watermark_346,w_480,...</td>\n",
       "      <td>Cadila Pharmaceuticals Ltd</td>\n",
       "      <td>34</td>\n",
       "      <td>37</td>\n",
       "      <td>29</td>\n",
       "      <td>3.10</td>\n",
       "    </tr>\n",
       "  </tbody>\n",
       "</table>\n",
       "</div>"
      ],
      "text/plain": [
       "              Medicine Name  \\\n",
       "0   Avastin 400mg Injection   \n",
       "1  Augmentin 625 Duo Tablet   \n",
       "2       Azithral 500 Tablet   \n",
       "3          Ascoril LS Syrup   \n",
       "4         Aciloc 150 Tablet   \n",
       "\n",
       "                                         Composition  \\\n",
       "0                               [Bevacizumab(400mg)]   \n",
       "1        [Amoxycillin(500mg), ClavulanicAcid(125mg)]   \n",
       "2                              [Azithromycin(500mg)]   \n",
       "3  [Ambroxol(30mg/5ml), Levosalbutamol(1mg/5ml), ...   \n",
       "4                                [Ranitidine(150mg)]   \n",
       "\n",
       "                                                Uses  \\\n",
       "0  [Cancer, of, colon, and, rectum, Non-small, ce...   \n",
       "1             [Treatment, of, Bacterial, infections]   \n",
       "2             [Treatment, of, Bacterial, infections]   \n",
       "3                [Treatment, of, Cough, with, mucus]   \n",
       "4  [Treatment, of, Gastroesophageal, reflux, dise...   \n",
       "\n",
       "                                           Image URL  \\\n",
       "0  https://onemg.gumlet.io/l_watermark_346,w_480,...   \n",
       "1  https://onemg.gumlet.io/l_watermark_346,w_480,...   \n",
       "2  https://onemg.gumlet.io/l_watermark_346,w_480,...   \n",
       "3  https://onemg.gumlet.io/l_watermark_346,w_480,...   \n",
       "4  https://onemg.gumlet.io/l_watermark_346,w_480,...   \n",
       "\n",
       "                           Manufacturer  Excellent Review %  Average Review %  \\\n",
       "0          Roche Products India Pvt Ltd                  22                56   \n",
       "1  Glaxo SmithKline Pharmaceuticals Ltd                  47                35   \n",
       "2           Alembic Pharmaceuticals Ltd                  39                40   \n",
       "3          Glenmark Pharmaceuticals Ltd                  24                41   \n",
       "4            Cadila Pharmaceuticals Ltd                  34                37   \n",
       "\n",
       "   Poor Review %  Medicine Score  \n",
       "0             22            3.00  \n",
       "1             18            3.58  \n",
       "2             21            3.36  \n",
       "3             35            2.78  \n",
       "4             29            3.10  "
      ]
     },
     "execution_count": 70,
     "metadata": {},
     "output_type": "execute_result"
    }
   ],
   "source": [
    "meds.head()"
   ]
  },
  {
   "cell_type": "markdown",
   "metadata": {},
   "source": [
    "# EDA 약품평가"
   ]
  },
  {
   "cell_type": "code",
   "execution_count": 71,
   "metadata": {
    "colab": {
     "base_uri": "https://localhost:8080/"
    },
    "id": "8fNSBDyzyr8u",
    "outputId": "88b53276-5023-4980-c5b4-41b7223c455c"
   },
   "outputs": [
    {
     "data": {
      "text/plain": [
       "Medicine Score\n",
       "4.34    899\n",
       "3.00    692\n",
       "5.00    602\n",
       "3.66    487\n",
       "1.66    417\n",
       "       ... \n",
       "4.62      1\n",
       "1.82      1\n",
       "1.62      1\n",
       "1.98      1\n",
       "1.38      1\n",
       "Name: count, Length: 166, dtype: int64"
      ]
     },
     "execution_count": 71,
     "metadata": {},
     "output_type": "execute_result"
    }
   ],
   "source": [
    "meds['Medicine Score'].value_counts()"
   ]
  },
  {
   "cell_type": "code",
   "execution_count": 72,
   "metadata": {
    "id": "PA1ODy41yw4p"
   },
   "outputs": [],
   "source": [
    "# 'Medicine Score' 열의 각 값들에 대한 빈도수를 계산\n",
    "medicine_scores = list(meds['Medicine Score'].value_counts().keys())\n",
    "# 각 약품 평가점수의 등장 횟수를 나타내는 리스트를 생성\n",
    "count_medicine_score = list(meds['Medicine Score'].value_counts())"
   ]
  },
  {
   "cell_type": "code",
   "execution_count": 73,
   "metadata": {
    "id": "c2-d-awWzrla"
   },
   "outputs": [],
   "source": [
    "# 약품 평가점수가 3이상인 경우에 해당하는 인덱스와 새로운 약품 평가점수를 추출\n",
    "index = []\n",
    "new_scores = []\n",
    "\n",
    "for i in medicine_scores:\n",
    "    if i >= 3:\n",
    "        # 약약품 평가점수가 3이상인 경우에 해당하는 인덱스를 저장\n",
    "        index.append(medicine_scores.index(i))\n",
    "\n",
    "        # 약품 평가점수가 3이상인 경우에에 해당하는 새로운 약품 평가점수를 저장\n",
    "        new_scores.append(i)\n",
    "    else:\n",
    "        # 약품 평가점수가 3보다 작은 경우는 무시\n",
    "        pass"
   ]
  },
  {
   "cell_type": "code",
   "execution_count": 74,
   "metadata": {
    "id": "w69V52oe0MMK"
   },
   "outputs": [],
   "source": [
    "# 약품 평가점수가 3.1보다 큰 경우에 해당하는 인덱스를 사용하여 각 약품 평가점수의 등장 횟수를 추출\n",
    "scores_count = []\n",
    "\n",
    "for i in index:\n",
    "    # 각 약품 평가점수의 등장 횟수를 'count_medicine_score' 리스트에서 추출하여 'scores_count' 리스트에 추가\n",
    "    scores_count.append(count_medicine_score[i])"
   ]
  },
  {
   "cell_type": "code",
   "execution_count": 75,
   "metadata": {
    "colab": {
     "base_uri": "https://localhost:8080/",
     "height": 698
    },
    "id": "4BpDTxb11mll",
    "outputId": "b73a14c2-d497-401a-c6e6-56f560498139"
   },
   "outputs": [
    {
     "data": {
      "image/png": "[encoded data removed]",
      "text/plain": [
       "<Figure size 720x576 with 1 Axes>"
      ]
     },
     "metadata": {
      "needs_background": "light"
     },
     "output_type": "display_data"
    }
   ],
   "source": [
    "import seaborn as sns\n",
    "\n",
    "plt.figure(figsize=(10, 8))\n",
    "sns.histplot(x=new_scores, bins=20, weights=scores_count, color='skyblue', kde=True)\n",
    "plt.title('Distribution of Medicine Scores')\n",
    "plt.xlabel('Medicine Scores')\n",
    "plt.ylabel('Count of Scores')\n",
    "plt.show()\n"
   ]
  },
  {
   "cell_type": "markdown",
   "metadata": {},
   "source": [
    "### 약물 평가점수는 주로 3 ~ 3.7 정도에 많이 분포함을 할수있음"
   ]
  },
  {
   "cell_type": "markdown",
   "metadata": {},
   "source": [
    "## tags 생성('Composition' 열과 'Uses' 열 결합)"
   ]
  },
  {
   "cell_type": "code",
   "execution_count": 76,
   "metadata": {
    "colab": {
     "base_uri": "https://localhost:8080/"
    },
    "id": "rPJSMiIr2GrK",
    "outputId": "d2b31677-8765-49a0-d1f9-71d2fe9e54c0"
   },
   "outputs": [
    {
     "name": "stderr",
     "output_type": "stream",
     "text": [
      "<ipython-input-76-2434cb110dab>:2: SettingWithCopyWarning: \n",
      "A value is trying to be set on a copy of a slice from a DataFrame.\n",
      "Try using .loc[row_indexer,col_indexer] = value instead\n",
      "\n",
      "See the caveats in the documentation: https://pandas.pydata.org/pandas-docs/stable/user_guide/indexing.html#returning-a-view-versus-a-copy\n",
      "  meds['tags'] = meds['Composition'] + meds['Uses']\n"
     ]
    }
   ],
   "source": [
    "# 'Composition' 열과 'Uses' 열을 합쳐서 'tags' 열을 생성 (tags : 구성성분 + 사용목적)\n",
    "meds['tags'] = meds['Composition'] + meds['Uses']"
   ]
  },
  {
   "cell_type": "code",
   "execution_count": 77,
   "metadata": {
    "colab": {
     "base_uri": "https://localhost:8080/",
     "height": 452
    },
    "id": "k_34Ozya2zxR",
    "outputId": "c3210d34-6921-482c-f9fa-fe1f4b0855c1"
   },
   "outputs": [
    {
     "data": {
      "text/html": [
       "<div>\n",
       "<style scoped>\n",
       "    .dataframe tbody tr th:only-of-type {\n",
       "        vertical-align: middle;\n",
       "    }\n",
       "\n",
       "    .dataframe tbody tr th {\n",
       "        vertical-align: top;\n",
       "    }\n",
       "\n",
       "    .dataframe thead th {\n",
       "        text-align: right;\n",
       "    }\n",
       "</style>\n",
       "<table border=\"1\" class=\"dataframe\">\n",
       "  <thead>\n",
       "    <tr style=\"text-align: right;\">\n",
       "      <th></th>\n",
       "      <th>Medicine Name</th>\n",
       "      <th>Composition</th>\n",
       "      <th>Uses</th>\n",
       "      <th>Image URL</th>\n",
       "      <th>Manufacturer</th>\n",
       "      <th>Excellent Review %</th>\n",
       "      <th>Average Review %</th>\n",
       "      <th>Poor Review %</th>\n",
       "      <th>Medicine Score</th>\n",
       "      <th>tags</th>\n",
       "    </tr>\n",
       "  </thead>\n",
       "  <tbody>\n",
       "    <tr>\n",
       "      <th>0</th>\n",
       "      <td>Avastin 400mg Injection</td>\n",
       "      <td>[Bevacizumab(400mg)]</td>\n",
       "      <td>[Cancer, of, colon, and, rectum, Non-small, ce...</td>\n",
       "      <td>https://onemg.gumlet.io/l_watermark_346,w_480,...</td>\n",
       "      <td>Roche Products India Pvt Ltd</td>\n",
       "      <td>22</td>\n",
       "      <td>56</td>\n",
       "      <td>22</td>\n",
       "      <td>3.00</td>\n",
       "      <td>[Bevacizumab(400mg), Cancer, of, colon, and, r...</td>\n",
       "    </tr>\n",
       "    <tr>\n",
       "      <th>1</th>\n",
       "      <td>Augmentin 625 Duo Tablet</td>\n",
       "      <td>[Amoxycillin(500mg), ClavulanicAcid(125mg)]</td>\n",
       "      <td>[Treatment, of, Bacterial, infections]</td>\n",
       "      <td>https://onemg.gumlet.io/l_watermark_346,w_480,...</td>\n",
       "      <td>Glaxo SmithKline Pharmaceuticals Ltd</td>\n",
       "      <td>47</td>\n",
       "      <td>35</td>\n",
       "      <td>18</td>\n",
       "      <td>3.58</td>\n",
       "      <td>[Amoxycillin(500mg), ClavulanicAcid(125mg), Tr...</td>\n",
       "    </tr>\n",
       "    <tr>\n",
       "      <th>2</th>\n",
       "      <td>Azithral 500 Tablet</td>\n",
       "      <td>[Azithromycin(500mg)]</td>\n",
       "      <td>[Treatment, of, Bacterial, infections]</td>\n",
       "      <td>https://onemg.gumlet.io/l_watermark_346,w_480,...</td>\n",
       "      <td>Alembic Pharmaceuticals Ltd</td>\n",
       "      <td>39</td>\n",
       "      <td>40</td>\n",
       "      <td>21</td>\n",
       "      <td>3.36</td>\n",
       "      <td>[Azithromycin(500mg), Treatment, of, Bacterial...</td>\n",
       "    </tr>\n",
       "    <tr>\n",
       "      <th>3</th>\n",
       "      <td>Ascoril LS Syrup</td>\n",
       "      <td>[Ambroxol(30mg/5ml), Levosalbutamol(1mg/5ml), ...</td>\n",
       "      <td>[Treatment, of, Cough, with, mucus]</td>\n",
       "      <td>https://onemg.gumlet.io/l_watermark_346,w_480,...</td>\n",
       "      <td>Glenmark Pharmaceuticals Ltd</td>\n",
       "      <td>24</td>\n",
       "      <td>41</td>\n",
       "      <td>35</td>\n",
       "      <td>2.78</td>\n",
       "      <td>[Ambroxol(30mg/5ml), Levosalbutamol(1mg/5ml), ...</td>\n",
       "    </tr>\n",
       "    <tr>\n",
       "      <th>4</th>\n",
       "      <td>Aciloc 150 Tablet</td>\n",
       "      <td>[Ranitidine(150mg)]</td>\n",
       "      <td>[Treatment, of, Gastroesophageal, reflux, dise...</td>\n",
       "      <td>https://onemg.gumlet.io/l_watermark_346,w_480,...</td>\n",
       "      <td>Cadila Pharmaceuticals Ltd</td>\n",
       "      <td>34</td>\n",
       "      <td>37</td>\n",
       "      <td>29</td>\n",
       "      <td>3.10</td>\n",
       "      <td>[Ranitidine(150mg), Treatment, of, Gastroesoph...</td>\n",
       "    </tr>\n",
       "  </tbody>\n",
       "</table>\n",
       "</div>"
      ],
      "text/plain": [
       "              Medicine Name  \\\n",
       "0   Avastin 400mg Injection   \n",
       "1  Augmentin 625 Duo Tablet   \n",
       "2       Azithral 500 Tablet   \n",
       "3          Ascoril LS Syrup   \n",
       "4         Aciloc 150 Tablet   \n",
       "\n",
       "                                         Composition  \\\n",
       "0                               [Bevacizumab(400mg)]   \n",
       "1        [Amoxycillin(500mg), ClavulanicAcid(125mg)]   \n",
       "2                              [Azithromycin(500mg)]   \n",
       "3  [Ambroxol(30mg/5ml), Levosalbutamol(1mg/5ml), ...   \n",
       "4                                [Ranitidine(150mg)]   \n",
       "\n",
       "                                                Uses  \\\n",
       "0  [Cancer, of, colon, and, rectum, Non-small, ce...   \n",
       "1             [Treatment, of, Bacterial, infections]   \n",
       "2             [Treatment, of, Bacterial, infections]   \n",
       "3                [Treatment, of, Cough, with, mucus]   \n",
       "4  [Treatment, of, Gastroesophageal, reflux, dise...   \n",
       "\n",
       "                                           Image URL  \\\n",
       "0  https://onemg.gumlet.io/l_watermark_346,w_480,...   \n",
       "1  https://onemg.gumlet.io/l_watermark_346,w_480,...   \n",
       "2  https://onemg.gumlet.io/l_watermark_346,w_480,...   \n",
       "3  https://onemg.gumlet.io/l_watermark_346,w_480,...   \n",
       "4  https://onemg.gumlet.io/l_watermark_346,w_480,...   \n",
       "\n",
       "                           Manufacturer  Excellent Review %  Average Review %  \\\n",
       "0          Roche Products India Pvt Ltd                  22                56   \n",
       "1  Glaxo SmithKline Pharmaceuticals Ltd                  47                35   \n",
       "2           Alembic Pharmaceuticals Ltd                  39                40   \n",
       "3          Glenmark Pharmaceuticals Ltd                  24                41   \n",
       "4            Cadila Pharmaceuticals Ltd                  34                37   \n",
       "\n",
       "   Poor Review %  Medicine Score  \\\n",
       "0             22            3.00   \n",
       "1             18            3.58   \n",
       "2             21            3.36   \n",
       "3             35            2.78   \n",
       "4             29            3.10   \n",
       "\n",
       "                                                tags  \n",
       "0  [Bevacizumab(400mg), Cancer, of, colon, and, r...  \n",
       "1  [Amoxycillin(500mg), ClavulanicAcid(125mg), Tr...  \n",
       "2  [Azithromycin(500mg), Treatment, of, Bacterial...  \n",
       "3  [Ambroxol(30mg/5ml), Levosalbutamol(1mg/5ml), ...  \n",
       "4  [Ranitidine(150mg), Treatment, of, Gastroesoph...  "
      ]
     },
     "execution_count": 77,
     "metadata": {},
     "output_type": "execute_result"
    }
   ],
   "source": [
    "meds.head()"
   ]
  },
  {
   "cell_type": "code",
   "execution_count": 78,
   "metadata": {
    "id": "wX-ABXeb21xm"
   },
   "outputs": [],
   "source": [
    "medicine = meds[['Medicine Name', 'Uses' ,'Composition', 'tags', 'Manufacturer','Medicine Score', 'Image URL']]"
   ]
  },
  {
   "cell_type": "code",
   "execution_count": 79,
   "metadata": {
    "colab": {
     "base_uri": "https://localhost:8080/"
    },
    "id": "xQq0Ux1i3sXG",
    "outputId": "f72eab9c-5190-434a-a40e-969c15dedf68"
   },
   "outputs": [
    {
     "name": "stderr",
     "output_type": "stream",
     "text": [
      "<ipython-input-79-b2e63454f354>:2: SettingWithCopyWarning: \n",
      "A value is trying to be set on a copy of a slice from a DataFrame.\n",
      "Try using .loc[row_indexer,col_indexer] = value instead\n",
      "\n",
      "See the caveats in the documentation: https://pandas.pydata.org/pandas-docs/stable/user_guide/indexing.html#returning-a-view-versus-a-copy\n",
      "  medicine['tags'] = medicine['tags'].apply(lambda x: ' '.join(x))\n"
     ]
    }
   ],
   "source": [
    "# 'tags' 열의 각 행에 있는 리스트를 하나의 문자열로 결합\n",
    "medicine['tags'] = medicine['tags'].apply(lambda x: ' '.join(x))"
   ]
  },
  {
   "cell_type": "code",
   "execution_count": 80,
   "metadata": {
    "colab": {
     "base_uri": "https://localhost:8080/",
     "height": 434
    },
    "id": "socfLBfF3yoH",
    "outputId": "2d5ff8e6-105e-4c3b-8571-b8aeda4920bb"
   },
   "outputs": [
    {
     "data": {
      "text/html": [
       "<div>\n",
       "<style scoped>\n",
       "    .dataframe tbody tr th:only-of-type {\n",
       "        vertical-align: middle;\n",
       "    }\n",
       "\n",
       "    .dataframe tbody tr th {\n",
       "        vertical-align: top;\n",
       "    }\n",
       "\n",
       "    .dataframe thead th {\n",
       "        text-align: right;\n",
       "    }\n",
       "</style>\n",
       "<table border=\"1\" class=\"dataframe\">\n",
       "  <thead>\n",
       "    <tr style=\"text-align: right;\">\n",
       "      <th></th>\n",
       "      <th>Medicine Name</th>\n",
       "      <th>Uses</th>\n",
       "      <th>Composition</th>\n",
       "      <th>tags</th>\n",
       "      <th>Manufacturer</th>\n",
       "      <th>Medicine Score</th>\n",
       "      <th>Image URL</th>\n",
       "    </tr>\n",
       "  </thead>\n",
       "  <tbody>\n",
       "    <tr>\n",
       "      <th>0</th>\n",
       "      <td>Avastin 400mg Injection</td>\n",
       "      <td>[Cancer, of, colon, and, rectum, Non-small, ce...</td>\n",
       "      <td>[Bevacizumab(400mg)]</td>\n",
       "      <td>Bevacizumab(400mg) Cancer of colon and rectum ...</td>\n",
       "      <td>Roche Products India Pvt Ltd</td>\n",
       "      <td>3.00</td>\n",
       "      <td>https://onemg.gumlet.io/l_watermark_346,w_480,...</td>\n",
       "    </tr>\n",
       "    <tr>\n",
       "      <th>1</th>\n",
       "      <td>Augmentin 625 Duo Tablet</td>\n",
       "      <td>[Treatment, of, Bacterial, infections]</td>\n",
       "      <td>[Amoxycillin(500mg), ClavulanicAcid(125mg)]</td>\n",
       "      <td>Amoxycillin(500mg) ClavulanicAcid(125mg) Treat...</td>\n",
       "      <td>Glaxo SmithKline Pharmaceuticals Ltd</td>\n",
       "      <td>3.58</td>\n",
       "      <td>https://onemg.gumlet.io/l_watermark_346,w_480,...</td>\n",
       "    </tr>\n",
       "    <tr>\n",
       "      <th>2</th>\n",
       "      <td>Azithral 500 Tablet</td>\n",
       "      <td>[Treatment, of, Bacterial, infections]</td>\n",
       "      <td>[Azithromycin(500mg)]</td>\n",
       "      <td>Azithromycin(500mg) Treatment of Bacterial inf...</td>\n",
       "      <td>Alembic Pharmaceuticals Ltd</td>\n",
       "      <td>3.36</td>\n",
       "      <td>https://onemg.gumlet.io/l_watermark_346,w_480,...</td>\n",
       "    </tr>\n",
       "    <tr>\n",
       "      <th>3</th>\n",
       "      <td>Ascoril LS Syrup</td>\n",
       "      <td>[Treatment, of, Cough, with, mucus]</td>\n",
       "      <td>[Ambroxol(30mg/5ml), Levosalbutamol(1mg/5ml), ...</td>\n",
       "      <td>Ambroxol(30mg/5ml) Levosalbutamol(1mg/5ml) Gua...</td>\n",
       "      <td>Glenmark Pharmaceuticals Ltd</td>\n",
       "      <td>2.78</td>\n",
       "      <td>https://onemg.gumlet.io/l_watermark_346,w_480,...</td>\n",
       "    </tr>\n",
       "    <tr>\n",
       "      <th>4</th>\n",
       "      <td>Aciloc 150 Tablet</td>\n",
       "      <td>[Treatment, of, Gastroesophageal, reflux, dise...</td>\n",
       "      <td>[Ranitidine(150mg)]</td>\n",
       "      <td>Ranitidine(150mg) Treatment of Gastroesophagea...</td>\n",
       "      <td>Cadila Pharmaceuticals Ltd</td>\n",
       "      <td>3.10</td>\n",
       "      <td>https://onemg.gumlet.io/l_watermark_346,w_480,...</td>\n",
       "    </tr>\n",
       "  </tbody>\n",
       "</table>\n",
       "</div>"
      ],
      "text/plain": [
       "              Medicine Name  \\\n",
       "0   Avastin 400mg Injection   \n",
       "1  Augmentin 625 Duo Tablet   \n",
       "2       Azithral 500 Tablet   \n",
       "3          Ascoril LS Syrup   \n",
       "4         Aciloc 150 Tablet   \n",
       "\n",
       "                                                Uses  \\\n",
       "0  [Cancer, of, colon, and, rectum, Non-small, ce...   \n",
       "1             [Treatment, of, Bacterial, infections]   \n",
       "2             [Treatment, of, Bacterial, infections]   \n",
       "3                [Treatment, of, Cough, with, mucus]   \n",
       "4  [Treatment, of, Gastroesophageal, reflux, dise...   \n",
       "\n",
       "                                         Composition  \\\n",
       "0                               [Bevacizumab(400mg)]   \n",
       "1        [Amoxycillin(500mg), ClavulanicAcid(125mg)]   \n",
       "2                              [Azithromycin(500mg)]   \n",
       "3  [Ambroxol(30mg/5ml), Levosalbutamol(1mg/5ml), ...   \n",
       "4                                [Ranitidine(150mg)]   \n",
       "\n",
       "                                                tags  \\\n",
       "0  Bevacizumab(400mg) Cancer of colon and rectum ...   \n",
       "1  Amoxycillin(500mg) ClavulanicAcid(125mg) Treat...   \n",
       "2  Azithromycin(500mg) Treatment of Bacterial inf...   \n",
       "3  Ambroxol(30mg/5ml) Levosalbutamol(1mg/5ml) Gua...   \n",
       "4  Ranitidine(150mg) Treatment of Gastroesophagea...   \n",
       "\n",
       "                           Manufacturer  Medicine Score  \\\n",
       "0          Roche Products India Pvt Ltd            3.00   \n",
       "1  Glaxo SmithKline Pharmaceuticals Ltd            3.58   \n",
       "2           Alembic Pharmaceuticals Ltd            3.36   \n",
       "3          Glenmark Pharmaceuticals Ltd            2.78   \n",
       "4            Cadila Pharmaceuticals Ltd            3.10   \n",
       "\n",
       "                                           Image URL  \n",
       "0  https://onemg.gumlet.io/l_watermark_346,w_480,...  \n",
       "1  https://onemg.gumlet.io/l_watermark_346,w_480,...  \n",
       "2  https://onemg.gumlet.io/l_watermark_346,w_480,...  \n",
       "3  https://onemg.gumlet.io/l_watermark_346,w_480,...  \n",
       "4  https://onemg.gumlet.io/l_watermark_346,w_480,...  "
      ]
     },
     "execution_count": 80,
     "metadata": {},
     "output_type": "execute_result"
    }
   ],
   "source": [
    "medicine.head()"
   ]
  },
  {
   "cell_type": "code",
   "execution_count": 81,
   "metadata": {
    "colab": {
     "base_uri": "https://localhost:8080/",
     "height": 35
    },
    "id": "LFRREsMQ3zsv",
    "outputId": "2c789162-1f15-423d-9f4b-46fb62d6592f"
   },
   "outputs": [
    {
     "data": {
      "text/plain": [
       "'Amoxycillin(500mg) ClavulanicAcid(125mg) Treatment of Bacterial infections'"
      ]
     },
     "execution_count": 81,
     "metadata": {},
     "output_type": "execute_result"
    }
   ],
   "source": [
    "medicine['tags'][1]\n"
   ]
  },
  {
   "cell_type": "code",
   "execution_count": 82,
   "metadata": {
    "colab": {
     "base_uri": "https://localhost:8080/"
    },
    "id": "qwSFURmZ35YH",
    "outputId": "5401da8c-73c6-405c-f231-6d882e260436"
   },
   "outputs": [
    {
     "name": "stderr",
     "output_type": "stream",
     "text": [
      "<ipython-input-82-7c79c22efe7a>:2: SettingWithCopyWarning: \n",
      "A value is trying to be set on a copy of a slice from a DataFrame.\n",
      "Try using .loc[row_indexer,col_indexer] = value instead\n",
      "\n",
      "See the caveats in the documentation: https://pandas.pydata.org/pandas-docs/stable/user_guide/indexing.html#returning-a-view-versus-a-copy\n",
      "  medicine['tags'] = medicine['tags'].apply(lambda x: x.lower())\n"
     ]
    }
   ],
   "source": [
    "# 'tags' 열의 각 행에 있는 문자열을 소문자로 변환\n",
    "medicine['tags'] = medicine['tags'].apply(lambda x: x.lower())"
   ]
  },
  {
   "cell_type": "code",
   "execution_count": 83,
   "metadata": {
    "colab": {
     "base_uri": "https://localhost:8080/"
    },
    "id": "AEgYnbII4BO7",
    "outputId": "804787f2-0201-498c-9d5f-a9c417d17f14"
   },
   "outputs": [
    {
     "name": "stderr",
     "output_type": "stream",
     "text": [
      "<ipython-input-83-a23b7bbe9a2a>:1: SettingWithCopyWarning: \n",
      "A value is trying to be set on a copy of a slice from a DataFrame\n",
      "\n",
      "See the caveats in the documentation: https://pandas.pydata.org/pandas-docs/stable/user_guide/indexing.html#returning-a-view-versus-a-copy\n",
      "  medicine.rename(columns = {'Medicine Name':'Name', }, inplace = True)\n",
      "<ipython-input-83-a23b7bbe9a2a>:2: SettingWithCopyWarning: \n",
      "A value is trying to be set on a copy of a slice from a DataFrame\n",
      "\n",
      "See the caveats in the documentation: https://pandas.pydata.org/pandas-docs/stable/user_guide/indexing.html#returning-a-view-versus-a-copy\n",
      "  medicine.rename(columns = {'Medicine Score':'Score'}, inplace = True)\n",
      "<ipython-input-83-a23b7bbe9a2a>:3: SettingWithCopyWarning: \n",
      "A value is trying to be set on a copy of a slice from a DataFrame\n",
      "\n",
      "See the caveats in the documentation: https://pandas.pydata.org/pandas-docs/stable/user_guide/indexing.html#returning-a-view-versus-a-copy\n",
      "  medicine.rename(columns = {'Image URL':'img_url', }, inplace = True)\n"
     ]
    }
   ],
   "source": [
    "medicine.rename(columns = {'Medicine Name':'Name', }, inplace = True)\n",
    "medicine.rename(columns = {'Medicine Score':'Score'}, inplace = True)\n",
    "medicine.rename(columns = {'Image URL':'img_url', }, inplace = True)"
   ]
  },
  {
   "cell_type": "markdown",
   "metadata": {},
   "source": [
    "## stemming"
   ]
  },
  {
   "cell_type": "code",
   "execution_count": 84,
   "metadata": {
    "colab": {
     "base_uri": "https://localhost:8080/",
     "height": 417
    },
    "id": "oF7h_Ob84HW0",
    "outputId": "4edcedaf-6177-436e-a211-3bf5af074a23"
   },
   "outputs": [],
   "source": [
    "import nltk\n",
    "from nltk.stem.porter import PorterStemmer\n",
    "ps = PorterStemmer()"
   ]
  },
  {
   "cell_type": "code",
   "execution_count": 86,
   "metadata": {
    "id": "NyGspc_G5Jpd"
   },
   "outputs": [],
   "source": [
    "def stem(text):\n",
    "    y = []\n",
    "    for i in text.split():\n",
    "        # 입력된 텍스트를 공백을 기준으로 나누고, 각 단어에 대해 어간 추출을 수행하여 리스트에 추가\n",
    "        y.append(ps.stem(i))\n",
    "\n",
    "    # 어간 추출이 완료된 단어들을 공백을 기준으로 이어붙여 하나의 문자열로 반환\n",
    "    return \" \".join(y)"
   ]
  },
  {
   "cell_type": "code",
   "execution_count": 87,
   "metadata": {
    "colab": {
     "base_uri": "https://localhost:8080/"
    },
    "id": "sxhrCIwn5bYw",
    "outputId": "81970511-4ac4-4718-b793-d68ad106d5d4"
   },
   "outputs": [
    {
     "name": "stderr",
     "output_type": "stream",
     "text": [
      "<ipython-input-87-c2d4119fe271>:1: SettingWithCopyWarning: \n",
      "A value is trying to be set on a copy of a slice from a DataFrame.\n",
      "Try using .loc[row_indexer,col_indexer] = value instead\n",
      "\n",
      "See the caveats in the documentation: https://pandas.pydata.org/pandas-docs/stable/user_guide/indexing.html#returning-a-view-versus-a-copy\n",
      "  medicine['tags'] = medicine['tags'].apply(stem)\n"
     ]
    }
   ],
   "source": [
    "medicine['tags'] = medicine['tags'].apply(stem)"
   ]
  },
  {
   "cell_type": "markdown",
   "metadata": {},
   "source": [
    "# CountVectorizer"
   ]
  },
  {
   "cell_type": "code",
   "execution_count": 88,
   "metadata": {
    "id": "HJYshOPw5imL"
   },
   "outputs": [],
   "source": [
    "from sklearn.feature_extraction.text import CountVectorizer\n",
    "\n",
    "# CountVectorizer 객체 생성\n",
    "# max_features=5000: 최대 5000개의 특징(단어)를 선택\n",
    "# stop_words='english': 영어 불용어(stop words)를 사용하여 제외\n",
    "cv = CountVectorizer(max_features=5000, stop_words='english')"
   ]
  },
  {
   "cell_type": "code",
   "execution_count": 89,
   "metadata": {
    "id": "k9Ijl_bw6mOF"
   },
   "outputs": [],
   "source": [
    "vector  = cv.fit_transform(medicine['tags']).toarray()"
   ]
  },
  {
   "cell_type": "code",
   "execution_count": 90,
   "metadata": {
    "colab": {
     "base_uri": "https://localhost:8080/"
    },
    "id": "f1r_Lrp97IHu",
    "outputId": "6fb1b011-6d87-483a-e1db-db54060e9a9d"
   },
   "outputs": [
    {
     "data": {
      "text/plain": [
       "2137"
      ]
     },
     "execution_count": 90,
     "metadata": {},
     "output_type": "execute_result"
    }
   ],
   "source": [
    "len(cv.get_feature_names_out())"
   ]
  },
  {
   "cell_type": "markdown",
   "metadata": {},
   "source": [
    "# 코사인 유사도"
   ]
  },
  {
   "cell_type": "code",
   "execution_count": 91,
   "metadata": {
    "id": "eKzS9r5O7ION"
   },
   "outputs": [],
   "source": [
    "from sklearn.metrics.pairwise import cosine_similarity\n",
    "similarity = cosine_similarity(vector)"
   ]
  },
  {
   "cell_type": "code",
   "execution_count": 92,
   "metadata": {
    "colab": {
     "base_uri": "https://localhost:8080/"
    },
    "id": "Df8F6aSb8OWi",
    "outputId": "1355ad09-3d58-4bb5-9b30-4ca7a119d75b"
   },
   "outputs": [
    {
     "data": {
      "text/plain": [
       "(11740, 11740)"
      ]
     },
     "execution_count": 92,
     "metadata": {},
     "output_type": "execute_result"
    }
   ],
   "source": [
    "similarity.shape"
   ]
  },
  {
   "cell_type": "code",
   "execution_count": 93,
   "metadata": {
    "colab": {
     "base_uri": "https://localhost:8080/"
    },
    "id": "de07RrJU8TXx",
    "outputId": "0b52e5ad-436b-4c30-9652-138641b01420"
   },
   "outputs": [
    {
     "data": {
      "text/plain": [
       "[(3274, 0.8111071056538128),\n",
       " (6682, 0.6936879756192961),\n",
       " (1730, 0.6847623832623259),\n",
       " (1731, 0.6847623832623259),\n",
       " (11665, 0.6847623832623259)]"
      ]
     },
     "execution_count": 93,
     "metadata": {},
     "output_type": "execute_result"
    }
   ],
   "source": [
    "#첫 번째 문서와 가장 유사한 다섯 개의 문서에 대한 인덱스와 해당 코사인 유사도\n",
    "sorted(list(enumerate(similarity[0])), reverse = True, key = lambda x:x[1])[1:6]"
   ]
  },
  {
   "cell_type": "markdown",
   "metadata": {},
   "source": [
    "# 추천 함수 생성"
   ]
  },
  {
   "cell_type": "code",
   "execution_count": 111,
   "metadata": {
    "id": "j-yLgt3V-FpS"
   },
   "outputs": [],
   "source": [
    "# 약물 이름을 기반으로 유사한 약물을 추천하는 함수\n",
    "def recommend(medicine_name):\n",
    "    # 추천된 약물을 저장할 리스트\n",
    "    recommended_medicine = []\n",
    "\n",
    "    # 입력된 약물 이름에 해당하는 행의 인덱스를 찾음\n",
    "    med_index = medicine[medicine['Name'] == medicine_name].index[0]\n",
    "\n",
    "    # 입력된 약물과 다른 약물들 간의 코사인 유사도를 가져옴\n",
    "    distances = similarity[med_index]\n",
    "\n",
    "    # 코사인 유사도를 기준으로 내림차순으로 정렬하고, 상위 50개를 선택\n",
    "    med_list = sorted(list(enumerate(distances)), reverse=True, key=lambda x: x[1])[1:51]\n",
    "\n",
    "    # 추천된 약물 리스트에 약물 이름과 점수를 추가\n",
    "    for i in med_list:\n",
    "        recommended_medicine.append([medicine.iloc[i[0]].Name, medicine.iloc[i[0]].Score])\n",
    "\n",
    "    # 점수를 기준으로 내림차순으로 정렬\n",
    "    recommendations = sorted(recommended_medicine, reverse=True, key=lambda x: x[1])\n",
    "\n",
    "    # 중복된 약물을 제거하여 최종 추천 리스트 생성\n",
    "    seen = set()\n",
    "    recommended_medicines = [x for x in recommendations if tuple(x) not in seen and not seen.add(tuple(x))]\n",
    "\n",
    "    # 추천된 약물을 출력\n",
    "    for i in recommended_medicines:\n",
    "        print(i)"
   ]
  },
  {
   "cell_type": "code",
   "execution_count": 112,
   "metadata": {
    "colab": {
     "base_uri": "https://localhost:8080/"
    },
    "id": "aHATLLm__V7A",
    "outputId": "c2d6fbbe-c52a-4133-a9c0-9a4e2122d040"
   },
   "outputs": [
    {
     "name": "stdout",
     "output_type": "stream",
     "text": [
      "['Azithral 500mg Injection', 5.0]\n",
      "['Azithral Eye Drop', 4.66]\n",
      "['Azee 1000 Tablet', 4.66]\n",
      "['Aziquest 500mg Tablet', 4.34]\n",
      "['Azee 100mg Tablet DT', 4.34]\n",
      "['Azithral KidTab', 4.34]\n",
      "['Zatura 500 Tablet', 4.16]\n",
      "['Azee 250 Tablet', 3.98]\n",
      "['Aziwok 600 Tablet', 3.88]\n",
      "['Azimax 250 Tablet', 3.68]\n",
      "['Azimax 500 Tablet', 3.66]\n",
      "['Azee 250 Tablet', 3.64]\n",
      "['Azee 500 Tablet', 3.52]\n",
      "['Altacef 500 Tablet', 3.4]\n",
      "['Ibithral 500mg Tablet', 3.38]\n",
      "['Zithrolect 500 Tablet', 3.34]\n",
      "['Alevo 500 Tablet', 3.34]\n",
      "['Hhazi 500 Tablet', 3.32]\n",
      "['Uthral 500mg Tablet', 3.32]\n",
      "['ATM 500 Tablet', 3.28]\n",
      "['Azikem 500mg Tablet', 3.26]\n",
      "['Azee 500 Tablet', 3.24]\n",
      "['Trulimax 500mg Tablet', 3.22]\n",
      "['Zathrin 500 Tablet', 3.22]\n",
      "['Azax 500 Tablet', 3.16]\n",
      "['Almox 500 Capsule', 3.12]\n",
      "['Aziwok 500 Tablet', 3.04]\n",
      "['Azicip 500 Tablet', 3.02]\n",
      "['Althrocin 500 Tablet', 3.0]\n",
      "['Azax 250 Tablet', 3.0]\n",
      "['Azifast 250 Tablet', 3.0]\n",
      "['Azifast 500 Tablet', 2.98]\n",
      "['Azimax 500 Tablet', 2.96]\n",
      "['Zady 500 Tablet', 2.86]\n",
      "['Azibact 500 Tablet', 2.84]\n",
      "['Azithral Eye Ointment', 2.78]\n",
      "['Alciflox 500mg Tablet', 2.78]\n",
      "['Azifast Gel', 2.76]\n",
      "['Zithium 500 Tablet', 2.74]\n",
      "['Azicip 250 Tablet', 2.74]\n",
      "['Azibest 500mg Tablet', 2.68]\n",
      "['Aziwok 250 Tablet', 2.62]\n",
      "['Azivent 500 Tablet', 2.42]\n",
      "['Aziwin 500 Tablet', 2.34]\n",
      "['Zithrocin 500mg Tablet', 2.34]\n",
      "['Azilide 500 Tablet', 2.16]\n",
      "['Zeethrom 500 Tablet', 2.1]\n",
      "['Aziclass 200mg Syrup', 2.0]\n",
      "['Ecothral 500mg Tablet', 1.84]\n",
      "['Macrozac 500 Tablet', 1.0]\n"
     ]
    }
   ],
   "source": [
    "recommend('Azithral 500 Tablet')"
   ]
  },
  {
   "cell_type": "code",
   "execution_count": 96,
   "metadata": {
    "id": "F1zDZ3HL_dXv"
   },
   "outputs": [],
   "source": [
    "# 약물 구성(Composition)을 기반으로 유사한 약물을 추천하는 함수\n",
    "def recommend_medicine(composition_queries):\n",
    "    # 추천된 약물을 저장할 리스트\n",
    "    recommendations = []\n",
    "\n",
    "    # 데이터프레임을 순회하며 주어진 구성을 모두 포함하는 약물을 찾음\n",
    "    for index, row in medicine.iterrows():\n",
    "        composition = row['Composition']\n",
    "        if isinstance(composition, list):\n",
    "            # 약물의 구성에 주어진 구성 항목이 모두 포함되어 있는지 확인\n",
    "            if all(query.lower() in ' '.join(composition).lower() for query in composition_queries):\n",
    "                recommendations.append([row['Name'],  row['Score']])\n",
    "\n",
    "    # 추천된 약물이 있는 경우\n",
    "    if recommendations:\n",
    "        # 중복을 제거하고 점수를 기준으로 내림차순으로 정렬한 후 상위 50개를 선택\n",
    "        medicine_list = sorted(recommendations, reverse=True, key=lambda x: x[1])[:50]\n",
    "        seen = set()\n",
    "        recommended_medicines = [x for x in medicine_list if tuple(x) not in seen and not seen.add(tuple(x))]\n",
    "        return recommended_medicines\n",
    "    else:\n",
    "        # 일치하는 약물이 없는 경우 메시지 반환\n",
    "        return \"일치하는 약물이 없습니다.\""
   ]
  },
  {
   "cell_type": "code",
   "execution_count": 97,
   "metadata": {
    "colab": {
     "base_uri": "https://localhost:8080/"
    },
    "id": "usSsH5JFAFqA",
    "outputId": "ec486fe7-60b5-4429-ee70-ed4991e043aa"
   },
   "outputs": [
    {
     "data": {
      "text/plain": [
       "[['Evoxil CV 500mg/125mg Tablet', 5.0],\n",
       " ['Lmx Forte 500mg/125mg Tablet', 5.0],\n",
       " ['Goldclav 625 Tablet', 4.34],\n",
       " ['Lacom-CV 625 Tablet', 4.34],\n",
       " ['Oro-CV 625 Tablet', 4.12],\n",
       " ['Erox CV 625 Tablet', 4.0],\n",
       " ['Tresmox CV 500mg/125mg Tablet', 3.88],\n",
       " ['Zovax CV 625 Tablet', 3.66],\n",
       " ['Bactoclav 625 Tablet', 3.62],\n",
       " ['Novamox CV 625mg Tablet', 3.6],\n",
       " ['Xoclave 625 Tablet', 3.6],\n",
       " ['Augmentin 625 Duo Tablet', 3.58],\n",
       " ['Advent 625 Tablet', 3.56],\n",
       " ['Acuclav 625 Tablet', 3.52],\n",
       " ['Polyclav 625mg Tablet', 3.52],\n",
       " ['Pexoclav 625 Tablet', 3.46],\n",
       " ['Rapiclav 625 Tablet', 3.44],\n",
       " ['Novaclav 625 Tablet', 3.38],\n",
       " ['Moxikind-CV 625 Tablet', 3.34],\n",
       " ['Amoxyclav 625 Tablet', 3.3],\n",
       " ['Sensiclav 625 Tablet', 3.28],\n",
       " ['Augpen 625 BID Tablet', 3.16],\n",
       " ['Hhamclav 625 Tablet', 3.16],\n",
       " ['Penclav 625 Tablet', 3.14],\n",
       " ['Mega-CV 625 Tablet', 3.06],\n",
       " ['Mox CV 625 Tablet', 3.06],\n",
       " ['Mpx-CV 625 Tablet', 3.0],\n",
       " ['Miliclav Tablet', 3.0],\n",
       " ['Moxiforce-CV 625 Tablet', 2.92],\n",
       " ['Moxclav 625 Tablet', 2.88],\n",
       " ['Augpen LB 625 Tablet', 2.82],\n",
       " ['Ampoxin-CV 500mg/125mg Tablet', 2.78],\n",
       " ['Megamentin 625 Tablet', 2.72],\n",
       " ['Symbiotik XL 625 Tablet', 2.66],\n",
       " ['Indclav 625 Tablet', 2.56],\n",
       " ['Omniclav 625 Tablet', 2.46],\n",
       " ['Ampilox CV 500 mg/125 mg Tablet', 2.1],\n",
       " ['Novaclav 625 Tablet', 2.0],\n",
       " ['Starclav 625 Tablet', 1.66],\n",
       " ['Amclaid 625 Tablet', 1.0],\n",
       " ['Princiclav 500 mg/125 mg Tablet', 1.0]]"
      ]
     },
     "execution_count": 97,
     "metadata": {},
     "output_type": "execute_result"
    }
   ],
   "source": [
    "recommend_medicine([\"Amoxycillin(500mg)\", \"ClavulanicAcid(125mg)\"])"
   ]
  },
  {
   "cell_type": "code",
   "execution_count": 98,
   "metadata": {
    "id": "AghwZTNpALb4"
   },
   "outputs": [],
   "source": [
    "# 사용 목적(Uses)을 기반으로 유사한 약물을 추천하는 함수\n",
    "def recommend_medicine_use(use_query):\n",
    "    # 추천된 약물을 저장할 리스트\n",
    "    recommendations = []\n",
    "\n",
    "    # 데이터프레임을 순회하며 주어진 사용 목적을 모두 포함하는 약물을 찾음\n",
    "    for index, row in medicine.iterrows():\n",
    "        use = row['Uses']\n",
    "        if isinstance(use, list):\n",
    "            # 약물의 사용 목적에 주어진 사용 목적 항목이 모두 포함되어 있는지 확인\n",
    "            if all(query.lower() in ' '.join(use).lower() for query in use_query):\n",
    "                recommendations.append([row['Name'],  row['Score']])\n",
    "\n",
    "    # 추천된 약물이 있는 경우\n",
    "    if recommendations:\n",
    "        # 중복을 제거하고 점수를 기준으로 내림차순으로 정렬한 후 상위 50개를 선택\n",
    "        medicine_list = sorted(recommendations, reverse=True, key=lambda x: x[1])[:50]\n",
    "        seen = set()\n",
    "        recommended_medicines = [x for x in medicine_list if tuple(x) not in seen and not seen.add(tuple(x))]\n",
    "        return recommended_medicines\n",
    "    else:\n",
    "        # 해당 질병에 대해 약물이 없는 경우 메시지 반환\n",
    "        return \"이 질병에 대한 약물이 없습니다.\""
   ]
  },
  {
   "cell_type": "code",
   "execution_count": 106,
   "metadata": {
    "colab": {
     "base_uri": "https://localhost:8080/"
    },
    "id": "c4ShdLPABvEf",
    "outputId": "86dc5fd9-7c95-41f0-d270-258e7ba3a478"
   },
   "outputs": [
    {
     "data": {
      "text/plain": [
       "[['Thyronorm 37.5mcg Tablet', 5.0],\n",
       " ['Thyronorm 137mcg Tablet', 4.78],\n",
       " ['Thyrox 150 Tablet', 4.66],\n",
       " ['Euthyroid 50 Tablet', 4.56],\n",
       " ['Lethyrox 25 Tablet', 4.34],\n",
       " ['Methimercazole 10 Tablet', 4.34],\n",
       " ['Methimercazole 5 Tablet', 4.34],\n",
       " ['Thyronex 100 Tablet', 4.34],\n",
       " ['Euthyroid 25 Tablet', 4.0],\n",
       " ['Thyrotas 12.5 Tablet', 4.0],\n",
       " ['Neo-Mercazole 20 Tablet', 3.98],\n",
       " ['Eltroxin 125mcg Tablet', 3.92],\n",
       " ['Eltroxin 100mcg Tablet', 3.8],\n",
       " ['Thyrox 88 Tablet', 3.78],\n",
       " ['Methimez 10 Tablet', 3.72],\n",
       " ['Thyronorm 62.5mcg Tablet', 3.72],\n",
       " ['Eltroxin 88mcg Tablet', 3.7],\n",
       " ['Euthyrox 75 Tablet', 3.66],\n",
       " ['Pth 30 Tablet', 3.62],\n",
       " ['Eltroxin 75mcg Tablet', 3.58],\n",
       " ['Thyronorm 88mcg Tablet', 3.56],\n",
       " ['Addphos Granules', 3.52],\n",
       " ['Thyrox 62.5mcg Tablet', 3.46],\n",
       " ['Euthyrox 100 Tablet', 3.44],\n",
       " ['Thyrox 200 Tablet', 3.44],\n",
       " ['Neo-Mercazole 10 Tablet', 3.42],\n",
       " ['Thyronorm 12.5mcg Tablet', 3.42],\n",
       " ['Thyronorm 75mcg Tablet', 3.4],\n",
       " ['Thyrox 12.5 Tablet', 3.28],\n",
       " ['Thyronorm 50mcg Tablet', 3.26],\n",
       " ['Methimez 5 Tablet', 3.22],\n",
       " ['Euthyrox 25 Tablet', 3.16],\n",
       " ['Thyronorm 125mcg Tablet', 3.16],\n",
       " ['Neo-Mercazole 5 Tablet', 3.1],\n",
       " ['Thyronorm 112mcg Tablet', 3.0],\n",
       " ['Anti-Thyrox 10 Tablet', 2.82],\n",
       " ['Thyronorm 150mcg Tablet', 2.8],\n",
       " ['Thyrox 125 Tablet', 2.78],\n",
       " ['Euthyroid 100 Tablet', 2.74],\n",
       " ['Anti-Thyrox 20 Tablet', 2.72],\n",
       " ['Euthyrox 50 Tablet', 2.6],\n",
       " ['Anti-Thyrox 5 Tablet', 2.5],\n",
       " ['Nexavar 200mg Tablet', 2.46],\n",
       " ['Lethyrox 12.5 Tablet', 1.66],\n",
       " ['Thyrotas 25 Tablet', 1.66]]"
      ]
     },
     "execution_count": 106,
     "metadata": {},
     "output_type": "execute_result"
    }
   ],
   "source": [
    "recommend_medicine_use(['thyroid']) #갑상선에 대해 검색해봄"
   ]
  },
  {
   "cell_type": "code",
   "execution_count": null,
   "metadata": {
    "id": "VEyL2BsVBziP"
   },
   "outputs": [],
   "source": []
  }
 ],
 "metadata": {
  "colab": {
   "provenance": []
  },
  "kernelspec": {
   "display_name": "Python 3",
   "language": "python",
   "name": "python3"
  },
  "language_info": {
   "codemirror_mode": {
    "name": "ipython",
    "version": 3
   },
   "file_extension": ".py",
   "mimetype": "text/x-python",
   "name": "python",
   "nbconvert_exporter": "python",
   "pygments_lexer": "ipython3",
   "version": "3.8.8"
  }
 },
 "nbformat": 4,
 "nbformat_minor": 1
}
